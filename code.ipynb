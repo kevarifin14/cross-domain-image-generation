{
 "cells": [
  {
   "cell_type": "code",
   "execution_count": 1,
   "metadata": {},
   "outputs": [
    {
     "name": "stderr",
     "output_type": "stream",
     "text": [
      "Using TensorFlow backend.\n"
     ]
    }
   ],
   "source": [
    "import numpy as np\n",
    "import sklearn as skl\n",
    "from sklearn.preprocessing import OneHotEncoder\n",
    "import scipy.io as scio\n",
    "import scipy\n",
    "import skimage as sk\n",
    "from skimage import color\n",
    "import keras\n",
    "from keras.models import Sequential, Model\n",
    "from keras.layers import Dense, Activation\n",
    "import matplotlib.pyplot as plt\n",
    "import tensorflow as tf\n",
    "from tensorflow.examples.tutorials.mnist import input_data\n",
    "import h5py\n",
    "from keras.layers.convolutional import UpSampling2D\n",
    "from keras.layers.convolutional import Conv2D, MaxPooling2D, Conv2DTranspose\n",
    "from keras.layers.core import Flatten, Reshape, Dropout\n",
    "from keras.layers.normalization import BatchNormalization\n",
    "from keras.optimizers import SGD, Adam\n",
    "from keras.layers.advanced_activations import LeakyReLU\n",
    "from keras.optimizers import Adam\n",
    "from keras.layers import Input\n",
    "%matplotlib inline"
   ]
  },
  {
   "cell_type": "code",
   "execution_count": 2,
   "metadata": {},
   "outputs": [
    {
     "name": "stdout",
     "output_type": "stream",
     "text": [
      "[name: \"/cpu:0\"\n",
      "device_type: \"CPU\"\n",
      "memory_limit: 268435456\n",
      "locality {\n",
      "}\n",
      "incarnation: 1768627826277252913\n",
      ", name: \"/gpu:0\"\n",
      "device_type: \"GPU\"\n",
      "memory_limit: 7680170394\n",
      "locality {\n",
      "  bus_id: 1\n",
      "}\n",
      "incarnation: 17347546147409328389\n",
      "physical_device_desc: \"device: 0, name: GeForce GTX 1070, pci bus id: 0000:01:00.0\"\n",
      "]\n"
     ]
    }
   ],
   "source": [
    "from tensorflow.python.client import device_lib\n",
    "print(device_lib.list_local_devices())"
   ]
  },
  {
   "cell_type": "markdown",
   "metadata": {},
   "source": [
    "# Load Datasets"
   ]
  },
  {
   "cell_type": "markdown",
   "metadata": {},
   "source": [
    "Loads the SVHN and MNIST datasets. We'll be building a binary classifier that classifies an image as part of the MNIST dataset or SVHN dataset. "
   ]
  },
  {
   "cell_type": "code",
   "execution_count": 3,
   "metadata": {},
   "outputs": [
    {
     "name": "stdout",
     "output_type": "stream",
     "text": [
      "Extracting MNIST_data/train-images-idx3-ubyte.gz\n",
      "Extracting MNIST_data/train-labels-idx1-ubyte.gz\n",
      "Extracting MNIST_data/t10k-images-idx3-ubyte.gz\n",
      "Extracting MNIST_data/t10k-labels-idx1-ubyte.gz\n"
     ]
    }
   ],
   "source": [
    "mnist = input_data.read_data_sets(\"MNIST_data/\", one_hot=True)"
   ]
  },
  {
   "cell_type": "code",
   "execution_count": 4,
   "metadata": {
    "collapsed": true
   },
   "outputs": [],
   "source": [
    "mnist_train_X = mnist.train.images\n",
    "mnist_test_X = mnist.test.images\n",
    "mnist_train_y = mnist.train.labels\n",
    "mnist_test_y = mnist.test.labels"
   ]
  },
  {
   "cell_type": "code",
   "execution_count": 5,
   "metadata": {
    "collapsed": true
   },
   "outputs": [],
   "source": [
    "svhn_train = scio.loadmat('svhn_train.mat')\n",
    "svhn_test = scio.loadmat('svhn_test.mat')"
   ]
  },
  {
   "cell_type": "code",
   "execution_count": 6,
   "metadata": {
    "collapsed": true
   },
   "outputs": [],
   "source": [
    "svhn_train_X = svhn_train['X']\n",
    "svhn_train_y = svhn_train['y']\n",
    "svhn_test_X = svhn_test['X']\n",
    "svhn_test_y = svhn_test['y']\n",
    "encoder = OneHotEncoder()\n",
    "svhn_train_y = encoder.fit_transform(svhn_train_y).todense()\n",
    "svhn_test_y = encoder.fit_transform(svhn_test_y).todense()"
   ]
  },
  {
   "cell_type": "markdown",
   "metadata": {},
   "source": [
    "# Preprocessing"
   ]
  },
  {
   "cell_type": "code",
   "execution_count": 7,
   "metadata": {
    "collapsed": true
   },
   "outputs": [],
   "source": [
    "def resize_images(imgs):\n",
    "    return np.array([sk.img_as_float(scipy.misc.imresize(img.reshape(28, 28), (32, 32))) for img in imgs])"
   ]
  },
  {
   "cell_type": "code",
   "execution_count": 8,
   "metadata": {
    "collapsed": true
   },
   "outputs": [],
   "source": [
    "svhn_train_X = np.array([sk.img_as_float(scipy.misc.imresize(svhn_train_X[:, :, :, i], (32, 32, 3))) for i in range(svhn_train_X.shape[-1])])\n",
    "svhn_test_X = np.array([sk.img_as_float(scipy.misc.imresize(svhn_test_X[:, :, :, i], (32, 32, 3))) for i in range(svhn_test_X.shape[-1])])"
   ]
  },
  {
   "cell_type": "code",
   "execution_count": 9,
   "metadata": {
    "collapsed": true
   },
   "outputs": [],
   "source": [
    "mnist_train_X = resize_images(mnist_train_X).reshape(mnist_train_X.shape[0], 32, 32, 1)\n",
    "mnist_test_X = resize_images(mnist_test_X).reshape(mnist_test_X.shape[0], 32, 32, 1)"
   ]
  },
  {
   "cell_type": "code",
   "execution_count": 10,
   "metadata": {
    "collapsed": true
   },
   "outputs": [],
   "source": [
    "stacked_mnist_train_X = np.stack((mnist_train_X, mnist_train_X, mnist_train_X), axis=3).reshape(mnist_train_X.shape[0], 32, 32, 3)\n",
    "stacked_mnist_test_X = np.stack((mnist_test_X, mnist_test_X, mnist_test_X), axis=3).reshape(mnist_test_X.shape[0], 32, 32, 3)"
   ]
  },
  {
   "cell_type": "markdown",
   "metadata": {
    "collapsed": true
   },
   "source": [
    "# MNIST & SVHN Classifier: f\n",
    "We define a classifier for both MNIST and SVHN for our cross domain mapping."
   ]
  },
  {
   "cell_type": "code",
   "execution_count": 11,
   "metadata": {
    "collapsed": true
   },
   "outputs": [],
   "source": [
    "def f_model(pretrain=True):\n",
    "    f = Sequential([\n",
    "        Conv2D(64, (3, 3), input_shape=(32, 32, 3), padding='same'), \n",
    "#         BatchNormalization(),\n",
    "        MaxPooling2D(pool_size=(2, 2)),\n",
    "        Activation('relu'),\n",
    "        Conv2D(128, (3, 3)), \n",
    "#         BatchNormalization(),\n",
    "        MaxPooling2D(pool_size=(2, 2)),\n",
    "        Activation('relu'),\n",
    "        Conv2D(256, (3, 3)), \n",
    "#         BatchNormalization(),\n",
    "        MaxPooling2D(pool_size=(2, 2)),\n",
    "        Activation('tanh'),\n",
    "        Conv2D(128, (4, 4), padding='same'),\n",
    "#         BatchNormalization(),\n",
    "        MaxPooling2D(pool_size=(2, 2)),\n",
    "        Activation('tanh'),\n",
    "    ])\n",
    "    if pretrain:\n",
    "        f.add(Conv2D(10, (1, 1)))\n",
    "        f.add(Activation('softmax'))\n",
    "        f.add(Flatten())\n",
    "    return f"
   ]
  },
  {
   "cell_type": "markdown",
   "metadata": {},
   "source": [
    "### Initialize f"
   ]
  },
  {
   "cell_type": "code",
   "execution_count": 12,
   "metadata": {
    "collapsed": true
   },
   "outputs": [],
   "source": [
    "f = f_model()\n",
    "f.compile(loss='categorical_crossentropy', optimizer='adam', metrics=['accuracy'])"
   ]
  },
  {
   "cell_type": "markdown",
   "metadata": {},
   "source": [
    "### Training"
   ]
  },
  {
   "cell_type": "code",
   "execution_count": 13,
   "metadata": {
    "collapsed": true
   },
   "outputs": [],
   "source": [
    "X_train = np.vstack((stacked_mnist_train_X, svhn_train_X))\n",
    "X_test = np.vstack((stacked_mnist_test_X, svhn_test_X))\n",
    "y_train = np.vstack((mnist_train_y, svhn_train_y))\n",
    "y_test = np.vstack((mnist_test_y, svhn_test_y))\n",
    "X_train, y_train = skl.utils.shuffle(X_train, y_train)\n",
    "X_test, y_test = skl.utils.shuffle(X_test, y_test)"
   ]
  },
  {
   "cell_type": "code",
   "execution_count": null,
   "metadata": {},
   "outputs": [],
   "source": [
    "f.fit(X_train, y_train, epochs=2)"
   ]
  },
  {
   "cell_type": "code",
   "execution_count": 14,
   "metadata": {
    "collapsed": true
   },
   "outputs": [],
   "source": [
    "f.load_weights('fweights.h5')"
   ]
  },
  {
   "cell_type": "markdown",
   "metadata": {},
   "source": [
    "### Validation"
   ]
  },
  {
   "cell_type": "code",
   "execution_count": 15,
   "metadata": {},
   "outputs": [
    {
     "data": {
      "text/plain": [
       "array([[  1.38809389e-06,   9.99586523e-01,   4.30924047e-05,\n",
       "          3.16450041e-07,   2.29484402e-04,   3.95357620e-06,\n",
       "          3.09997777e-05,   7.84297808e-05,   2.29937305e-05,\n",
       "          2.68372469e-06],\n",
       "       [  5.67444295e-06,   5.40966266e-06,   2.34653617e-05,\n",
       "          6.73102113e-06,   3.49398870e-05,   4.71066232e-06,\n",
       "          4.90886634e-07,   9.99759018e-01,   1.23549789e-05,\n",
       "          1.47165265e-04],\n",
       "       [  9.99737799e-01,   2.40795944e-05,   7.40107271e-06,\n",
       "          1.59851043e-04,   6.03494800e-06,   9.80136883e-06,\n",
       "          8.23490609e-06,   1.65736710e-05,   2.04131611e-05,\n",
       "          9.89570344e-06],\n",
       "       [  7.24723031e-06,   1.52944413e-05,   8.64152826e-05,\n",
       "          1.49951811e-04,   1.69575196e-02,   9.17659490e-04,\n",
       "          3.20141294e-06,   3.07903495e-02,   9.50610936e-01,\n",
       "          4.61492222e-04],\n",
       "       [  9.99401450e-01,   2.20437811e-04,   1.68268871e-05,\n",
       "          6.56423595e-07,   1.44046010e-06,   5.42522866e-06,\n",
       "          1.86186415e-04,   2.29457191e-06,   3.52543225e-06,\n",
       "          1.61641277e-04],\n",
       "       [  7.09412634e-05,   7.54103239e-04,   3.75216652e-04,\n",
       "          1.81800842e-05,   8.14475759e-04,   3.31927277e-03,\n",
       "          9.93063509e-01,   3.86325473e-06,   1.58031553e-03,\n",
       "          1.21211656e-07],\n",
       "       [  9.99747932e-01,   1.02678299e-04,   4.17720585e-05,\n",
       "          1.11801478e-06,   2.21984124e-07,   8.88413354e-07,\n",
       "          1.93999676e-05,   8.02521924e-07,   4.32346178e-06,\n",
       "          8.09098638e-05],\n",
       "       [  7.88051402e-04,   1.27986947e-03,   1.26211648e-03,\n",
       "          1.16231770e-03,   1.55996240e-05,   3.03700217e-03,\n",
       "          7.57304224e-05,   9.92006242e-01,   3.59933620e-04,\n",
       "          1.31004699e-05],\n",
       "       [  4.88269317e-04,   9.77247655e-01,   2.16080621e-03,\n",
       "          7.52186729e-03,   3.35395394e-04,   8.71580909e-04,\n",
       "          3.54957627e-03,   3.67635791e-03,   1.84241740e-03,\n",
       "          2.30604922e-03],\n",
       "       [  7.04083914e-06,   5.22259597e-06,   6.45753607e-05,\n",
       "          1.72439730e-04,   9.42616389e-05,   9.99594510e-01,\n",
       "          2.62055619e-05,   1.69721716e-05,   2.18740138e-06,\n",
       "          1.67356739e-05],\n",
       "       [  1.96951678e-05,   2.01119838e-05,   3.72809482e-05,\n",
       "          6.67190352e-06,   5.38062450e-05,   4.72387001e-06,\n",
       "          1.41628811e-06,   9.99758780e-01,   1.57001232e-05,\n",
       "          8.17222899e-05],\n",
       "       [  2.98973583e-02,   3.02689467e-02,   4.86808531e-02,\n",
       "          4.54025447e-01,   2.17659138e-02,   5.78370690e-02,\n",
       "          1.50360744e-02,   1.08478732e-01,   4.34949845e-02,\n",
       "          1.90514535e-01],\n",
       "       [  1.20646106e-07,   2.11356860e-06,   6.88563796e-06,\n",
       "          6.48157084e-07,   9.99986053e-01,   8.23287905e-07,\n",
       "          2.39883093e-07,   5.70374368e-07,   1.89690411e-07,\n",
       "          2.21611663e-06],\n",
       "       [  1.64487130e-06,   1.84090226e-04,   1.45197177e-04,\n",
       "          9.99446809e-01,   2.26769362e-06,   3.70045418e-05,\n",
       "          1.60951618e-06,   9.38513695e-05,   7.95748492e-05,\n",
       "          7.72346721e-06],\n",
       "       [  1.16370516e-04,   1.84487773e-03,   3.59972706e-03,\n",
       "          3.21420666e-04,   1.64720009e-03,   1.64399389e-02,\n",
       "          3.53919349e-05,   9.43912804e-01,   2.99809780e-02,\n",
       "          2.10128492e-03],\n",
       "       [  3.73664407e-05,   1.83156972e-05,   9.99067724e-01,\n",
       "          7.65381083e-06,   4.44811521e-05,   4.65490375e-05,\n",
       "          1.55466507e-04,   5.59643726e-04,   1.89099719e-05,\n",
       "          4.39242103e-05],\n",
       "       [  9.69569087e-01,   2.69327051e-04,   3.16146150e-04,\n",
       "          1.45738376e-02,   2.46023817e-04,   4.20432800e-04,\n",
       "          6.08930830e-04,   3.01983382e-04,   1.34494668e-03,\n",
       "          1.23493485e-02],\n",
       "       [  6.00406565e-05,   4.05605988e-06,   2.60921032e-03,\n",
       "          4.91177343e-05,   9.86173749e-01,   9.18381196e-03,\n",
       "          3.86564388e-05,   1.84190809e-03,   3.16309342e-05,\n",
       "          7.66569519e-06],\n",
       "       [  1.76805486e-06,   1.32172249e-06,   3.81940453e-07,\n",
       "          2.05338870e-06,   1.11885311e-04,   2.71409954e-06,\n",
       "          1.48804361e-06,   5.46869478e-06,   2.77720555e-05,\n",
       "          9.99845147e-01],\n",
       "       [  2.68299164e-06,   5.49535889e-06,   9.99966502e-01,\n",
       "          1.53915266e-06,   1.56351018e-06,   2.44084930e-08,\n",
       "          1.60797754e-06,   1.81057658e-05,   2.48108449e-06,\n",
       "          3.89844281e-08],\n",
       "       [  4.46028462e-05,   9.96489704e-01,   1.01844838e-03,\n",
       "          3.82111000e-04,   1.09720795e-05,   7.78419871e-06,\n",
       "          1.75181415e-03,   2.04398719e-04,   5.08303201e-05,\n",
       "          3.92902075e-05],\n",
       "       [  3.50425602e-04,   9.05712513e-05,   5.24252130e-07,\n",
       "          1.33949870e-04,   5.84634487e-04,   9.97988939e-01,\n",
       "          5.28601813e-05,   2.77985928e-05,   1.36905976e-04,\n",
       "          6.33407559e-04],\n",
       "       [  5.07476158e-04,   3.45667577e-05,   6.40476297e-04,\n",
       "          3.17713758e-03,   3.44842148e-04,   8.83008122e-01,\n",
       "          1.38087889e-05,   1.08495280e-01,   2.33796937e-03,\n",
       "          1.44031609e-03],\n",
       "       [  1.87224225e-06,   1.63856566e-05,   1.93227970e-06,\n",
       "          6.26073379e-05,   2.72787671e-04,   8.68058123e-06,\n",
       "          1.27532837e-06,   9.41932667e-05,   1.00082587e-04,\n",
       "          9.99440134e-01],\n",
       "       [  1.14115123e-02,   4.83682263e-04,   8.05838943e-01,\n",
       "          4.80943406e-03,   1.12583362e-01,   2.88895215e-03,\n",
       "          9.31355171e-04,   2.26844437e-02,   2.45193075e-02,\n",
       "          1.38490638e-02],\n",
       "       [  8.75722675e-04,   1.46553135e-02,   6.32259429e-01,\n",
       "          5.04279669e-05,   5.19341149e-04,   1.18623837e-04,\n",
       "          5.01386414e-04,   8.98000672e-02,   2.59675443e-01,\n",
       "          1.54418137e-03],\n",
       "       [  1.91551037e-04,   7.89800167e-01,   4.25907783e-03,\n",
       "          1.89275108e-02,   1.44277990e-03,   7.59142131e-05,\n",
       "          3.79071129e-03,   1.85667552e-04,   1.80558532e-01,\n",
       "          7.68276688e-04],\n",
       "       [  1.39531733e-06,   9.99657512e-01,   5.91084499e-05,\n",
       "          3.81229398e-07,   1.74102926e-04,   4.09699214e-06,\n",
       "          5.33023958e-05,   3.52527823e-05,   1.37170628e-05,\n",
       "          1.19689298e-06],\n",
       "       [  9.99073267e-01,   1.17119147e-04,   8.40505236e-05,\n",
       "          3.18051480e-06,   2.40409395e-06,   4.95354743e-06,\n",
       "          1.24031591e-04,   5.41156442e-06,   2.14106944e-06,\n",
       "          5.83478017e-04],\n",
       "       [  2.24736164e-06,   9.99644160e-01,   1.85070894e-04,\n",
       "          6.39091286e-06,   2.25335643e-05,   4.54048768e-06,\n",
       "          1.51782506e-05,   3.73122748e-05,   2.53513626e-05,\n",
       "          5.71900855e-05],\n",
       "       [  2.91217002e-04,   2.08236976e-04,   8.04033652e-02,\n",
       "          4.97691690e-05,   9.17778075e-01,   4.33257897e-04,\n",
       "          5.34216990e-04,   7.25438658e-05,   2.11959850e-04,\n",
       "          1.73670123e-05],\n",
       "       [  1.64459634e-05,   2.70893861e-06,   9.95954037e-01,\n",
       "          1.58601997e-05,   3.62593238e-03,   5.42058588e-05,\n",
       "          2.26455504e-05,   2.12717088e-04,   9.26318316e-05,\n",
       "          2.77355480e-06],\n",
       "       [  9.94322777e-01,   2.15416258e-05,   1.16391690e-03,\n",
       "          1.95607481e-05,   1.68479120e-04,   1.89305880e-04,\n",
       "          2.95240479e-03,   4.32551133e-05,   8.08146160e-06,\n",
       "          1.11071172e-03],\n",
       "       [  1.16821390e-03,   1.97531581e-02,   3.26296329e-01,\n",
       "          1.59408115e-02,   9.67799593e-03,   1.41217271e-02,\n",
       "          3.90495319e-04,   6.03475273e-01,   9.10990126e-03,\n",
       "          6.60859005e-05],\n",
       "       [  1.93186148e-04,   7.19428353e-05,   8.37875234e-07,\n",
       "          1.84169062e-06,   6.17216283e-05,   3.41398438e-04,\n",
       "          9.99306679e-01,   2.74386252e-06,   1.73506105e-05,\n",
       "          2.26973589e-06],\n",
       "       [  3.17725903e-06,   9.99426007e-01,   4.51338274e-05,\n",
       "          2.01638542e-07,   1.51338434e-04,   1.76304366e-05,\n",
       "          1.95788962e-04,   1.26223531e-04,   3.40009319e-05,\n",
       "          6.45203329e-07],\n",
       "       [  3.51176001e-02,   7.48962339e-04,   5.09980926e-03,\n",
       "          7.41475833e-06,   4.99985035e-05,   2.81341287e-04,\n",
       "          9.54518259e-01,   7.56099529e-04,   2.95971008e-03,\n",
       "          4.60707757e-04],\n",
       "       [  1.23178782e-02,   5.01124514e-03,   6.33057964e-04,\n",
       "          3.78947414e-04,   5.00247806e-05,   2.17539913e-04,\n",
       "          9.81107473e-01,   7.60764960e-05,   3.29272261e-05,\n",
       "          1.74846762e-04],\n",
       "       [  8.88967916e-05,   1.46289585e-05,   5.33866230e-03,\n",
       "          1.29383674e-03,   2.85408995e-03,   9.83323395e-01,\n",
       "          1.94900222e-05,   5.11354255e-03,   1.60868943e-03,\n",
       "          3.44802073e-04],\n",
       "       [  2.29059951e-05,   5.76858693e-05,   5.09061692e-06,\n",
       "          1.77208532e-03,   1.47389059e-04,   2.14600514e-05,\n",
       "          3.03592765e-06,   1.65957070e-04,   9.92864132e-01,\n",
       "          4.94025508e-03],\n",
       "       [  2.95928680e-06,   5.19786227e-06,   8.90239619e-07,\n",
       "          8.19641718e-05,   2.45347314e-06,   1.51356187e-04,\n",
       "          1.03083195e-07,   4.32398694e-04,   8.52205267e-04,\n",
       "          9.98470485e-01],\n",
       "       [  9.99874949e-01,   1.30139040e-06,   4.51369633e-05,\n",
       "          2.08887741e-05,   7.35373135e-07,   2.35786433e-06,\n",
       "          3.50306254e-05,   7.28369469e-06,   5.55569432e-06,\n",
       "          6.67651693e-06],\n",
       "       [  2.07567537e-05,   3.49002890e-02,   7.03012047e-05,\n",
       "          4.67172913e-06,   5.39093890e-06,   5.43812203e-05,\n",
       "          9.64677513e-01,   1.61740056e-04,   8.96355341e-05,\n",
       "          1.54591889e-05],\n",
       "       [  1.78082875e-04,   1.38551550e-05,   7.07327505e-04,\n",
       "          2.20870032e-04,   9.98017550e-01,   7.53422792e-05,\n",
       "          1.46646448e-06,   6.65588914e-06,   7.72358209e-04,\n",
       "          6.58917043e-06],\n",
       "       [  3.03085544e-04,   9.27088559e-01,   4.32738988e-03,\n",
       "          1.25752576e-03,   5.67446789e-03,   8.86142999e-03,\n",
       "          1.41001190e-03,   3.08593344e-02,   9.12984367e-03,\n",
       "          1.10883648e-02],\n",
       "       [  1.89622654e-06,   2.96104076e-06,   6.61050365e-07,\n",
       "          3.97222311e-06,   4.01736441e-04,   5.56344230e-06,\n",
       "          6.10068582e-06,   1.77504444e-05,   5.20904490e-04,\n",
       "          9.99038458e-01],\n",
       "       [  1.85486242e-05,   9.97299969e-01,   8.34542443e-04,\n",
       "          4.41069787e-05,   7.27649240e-05,   1.25465940e-05,\n",
       "          6.54038013e-06,   1.02924067e-03,   6.70007372e-04,\n",
       "          1.16683314e-05],\n",
       "       [  4.86220051e-06,   3.27568014e-05,   9.75252806e-06,\n",
       "          7.73334079e-07,   5.91400567e-06,   4.51811320e-06,\n",
       "          9.99935031e-01,   1.05545141e-07,   6.34038634e-06,\n",
       "          5.37468203e-08],\n",
       "       [  2.47523585e-05,   4.49306526e-06,   2.78387706e-05,\n",
       "          9.18701771e-05,   3.23187269e-04,   9.13726617e-05,\n",
       "          1.29565012e-06,   9.57121258e-04,   9.94548023e-01,\n",
       "          3.92995914e-03],\n",
       "       [  5.44928043e-05,   9.97656703e-01,   1.93818239e-03,\n",
       "          4.43527242e-05,   4.17836100e-06,   1.05215022e-05,\n",
       "          1.92336360e-04,   8.97852879e-05,   4.85313512e-06,\n",
       "          4.67116888e-06],\n",
       "       [  9.89825308e-01,   6.44971803e-03,   6.92778383e-04,\n",
       "          5.52945567e-05,   2.64366012e-04,   4.79240771e-06,\n",
       "          2.33797217e-03,   4.67522368e-05,   1.07926055e-04,\n",
       "          2.15078559e-04],\n",
       "       [  1.16835182e-07,   3.12440932e-07,   9.17912621e-06,\n",
       "          1.70680301e-04,   1.60567618e-06,   2.58818068e-06,\n",
       "          3.68444660e-07,   8.62646630e-07,   9.99813139e-01,\n",
       "          1.17385298e-06],\n",
       "       [  2.73937680e-04,   7.31982655e-05,   3.61024810e-04,\n",
       "          6.47761408e-05,   2.04563164e-03,   9.96819735e-01,\n",
       "          1.69814259e-04,   1.14494076e-04,   4.14016267e-06,\n",
       "          7.31410473e-05],\n",
       "       [  6.68529465e-05,   2.22524584e-04,   2.33089216e-02,\n",
       "          2.60845882e-05,   9.62182283e-01,   9.99437831e-03,\n",
       "          3.48441426e-05,   2.38771713e-03,   1.70381542e-03,\n",
       "          7.25787031e-05],\n",
       "       [  3.66392458e-04,   2.67988544e-05,   1.04792509e-03,\n",
       "          1.44330319e-03,   9.47122931e-01,   1.98280327e-02,\n",
       "          1.84521545e-04,   5.38062025e-03,   2.45795604e-02,\n",
       "          1.98888520e-05],\n",
       "       [  2.46997247e-03,   2.60007393e-04,   1.49211904e-03,\n",
       "          3.98121625e-02,   2.62251887e-02,   1.04713462e-01,\n",
       "          1.45672442e-04,   7.96216726e-01,   2.70683970e-02,\n",
       "          1.59631972e-03],\n",
       "       [  5.19848181e-05,   4.50026739e-04,   5.77440602e-04,\n",
       "          1.27377338e-04,   3.12806037e-03,   6.06237663e-05,\n",
       "          1.88026588e-05,   2.70581362e-03,   9.72613335e-01,\n",
       "          2.02665161e-02],\n",
       "       [  5.99558419e-03,   6.72066165e-03,   2.64810231e-02,\n",
       "          6.41675770e-01,   1.92045397e-03,   2.11098697e-03,\n",
       "          7.23339468e-02,   1.73018139e-03,   2.40431935e-01,\n",
       "          5.99438907e-04],\n",
       "       [  3.53234736e-06,   5.19406649e-06,   9.99477446e-01,\n",
       "          1.48998879e-05,   4.64151817e-04,   1.23842183e-05,\n",
       "          1.30562257e-05,   5.65479286e-06,   2.96647522e-06,\n",
       "          7.46082890e-07],\n",
       "       [  6.08500501e-04,   9.31971431e-01,   1.11208744e-02,\n",
       "          4.32034731e-02,   2.76128965e-04,   1.89344981e-04,\n",
       "          3.96863511e-03,   1.59150964e-04,   8.18258710e-03,\n",
       "          3.19992629e-04],\n",
       "       [  3.53343785e-04,   9.71008241e-01,   5.27010439e-03,\n",
       "          3.02343536e-03,   1.15453433e-04,   5.07254226e-05,\n",
       "          1.99910607e-02,   1.85740617e-04,   1.14046122e-06,\n",
       "          7.04967022e-07],\n",
       "       [  2.58548968e-02,   9.25593427e-04,   7.90543563e-04,\n",
       "          6.40176644e-04,   2.95380742e-05,   4.69944859e-03,\n",
       "          9.67905449e-04,   6.46583270e-04,   1.23232690e-04,\n",
       "          9.65322018e-01],\n",
       "       [  2.01786170e-04,   1.47531260e-04,   4.23216552e-05,\n",
       "          4.03382455e-06,   6.18636550e-05,   4.53127177e-05,\n",
       "          5.07785535e-06,   9.97681260e-01,   1.01718106e-04,\n",
       "          1.70905306e-03],\n",
       "       [  5.87594754e-04,   8.80932212e-01,   7.74259418e-02,\n",
       "          9.04123299e-04,   2.29638466e-03,   1.14834627e-04,\n",
       "          1.65331587e-02,   8.04224517e-03,   1.25972591e-02,\n",
       "          5.66266361e-04],\n",
       "       [  2.78566092e-01,   4.55343723e-01,   1.07084895e-02,\n",
       "          1.77712470e-01,   1.46371312e-03,   6.53355103e-03,\n",
       "          6.43403642e-03,   6.68302178e-03,   4.42367494e-02,\n",
       "          1.23180877e-02],\n",
       "       [  3.60687022e-06,   9.99789178e-01,   1.44670717e-04,\n",
       "          1.25294946e-05,   1.42303492e-07,   4.38454407e-07,\n",
       "          4.74154831e-06,   3.91129324e-05,   4.94558481e-06,\n",
       "          6.56625616e-07],\n",
       "       [  9.45351541e-01,   1.25838891e-02,   2.55533885e-02,\n",
       "          4.81624855e-03,   4.64523304e-03,   1.28647930e-03,\n",
       "          6.39792182e-04,   5.53470200e-05,   4.39483160e-03,\n",
       "          6.73086382e-04],\n",
       "       [  5.00609027e-03,   1.14079427e-04,   5.27064658e-05,\n",
       "          8.87327075e-01,   3.70159833e-04,   4.29737270e-02,\n",
       "          2.24051601e-05,   6.12902604e-02,   4.94268781e-04,\n",
       "          2.34926376e-03],\n",
       "       [  1.32422701e-06,   1.48252809e-06,   1.28879762e-07,\n",
       "          5.66830386e-05,   1.45095866e-04,   9.99674559e-01,\n",
       "          3.91637550e-05,   1.27022895e-06,   3.61777456e-05,\n",
       "          4.39368523e-05],\n",
       "       [  1.65941732e-04,   9.94754076e-01,   1.20461639e-03,\n",
       "          2.47177959e-04,   1.52714289e-04,   5.05960015e-05,\n",
       "          8.29250203e-04,   5.99787279e-04,   2.26594930e-04,\n",
       "          1.76923070e-03],\n",
       "       [  2.66016809e-06,   9.99787152e-01,   7.71953928e-05,\n",
       "          4.24805512e-06,   1.01008891e-05,   1.77951563e-06,\n",
       "          1.96241781e-05,   4.36883711e-05,   5.00469941e-05,\n",
       "          3.39493909e-06],\n",
       "       [  7.17464900e-07,   9.99865770e-01,   1.02115046e-05,\n",
       "          2.92592262e-07,   4.54273577e-05,   2.71065824e-06,\n",
       "          1.14705090e-05,   5.23055678e-05,   9.95704886e-06,\n",
       "          1.07492963e-06],\n",
       "       [  7.66574158e-06,   6.45018599e-06,   6.13779775e-05,\n",
       "          2.68903250e-06,   1.12716716e-05,   3.17404056e-06,\n",
       "          5.93638106e-07,   9.99628305e-01,   6.89667786e-06,\n",
       "          2.71547353e-04],\n",
       "       [  5.72636873e-06,   1.83168504e-05,   1.36939816e-05,\n",
       "          1.14155533e-04,   7.64682554e-05,   9.98596132e-01,\n",
       "          4.63773040e-06,   1.08900806e-03,   5.21191487e-06,\n",
       "          7.66345547e-05],\n",
       "       [  6.41967217e-03,   4.28106040e-02,   1.98880713e-02,\n",
       "          6.55046955e-04,   2.33412546e-04,   1.56090886e-03,\n",
       "          9.21412945e-01,   4.25778981e-03,   3.46579793e-04,\n",
       "          2.41502840e-03],\n",
       "       [  4.42859659e-04,   8.72099042e-01,   7.84788653e-02,\n",
       "          1.71365659e-03,   6.94622169e-04,   2.82661116e-04,\n",
       "          4.35998254e-02,   1.01881416e-03,   1.52955996e-03,\n",
       "          1.40129981e-04],\n",
       "       [  6.68416265e-04,   1.26015758e-02,   9.35433328e-01,\n",
       "          4.28947591e-04,   3.61363925e-02,   7.88512698e-05,\n",
       "          1.40427984e-02,   3.25955072e-04,   2.43793562e-04,\n",
       "          4.00284189e-05],\n",
       "       [  9.98222411e-01,   8.00801990e-06,   9.76205774e-05,\n",
       "          5.01673785e-04,   2.05223823e-05,   1.35142313e-04,\n",
       "          2.07512159e-04,   4.80695715e-04,   1.90102783e-05,\n",
       "          3.07397888e-04],\n",
       "       [  1.59871634e-05,   1.28577882e-03,   8.38317064e-05,\n",
       "          1.59414121e-05,   9.98299658e-01,   8.95155335e-06,\n",
       "          2.75988103e-04,   9.91878096e-06,   2.59901071e-06,\n",
       "          1.39450935e-06],\n",
       "       [  1.48426557e-06,   9.99489784e-01,   1.57854360e-04,\n",
       "          4.40481188e-07,   1.69610634e-04,   2.28308750e-06,\n",
       "          4.29680076e-05,   1.31268229e-04,   3.07277537e-06,\n",
       "          1.02481977e-06],\n",
       "       [  1.50915448e-05,   5.50177865e-05,   9.99480069e-01,\n",
       "          2.74830782e-05,   1.83669516e-04,   2.07066914e-05,\n",
       "          5.15611027e-05,   1.49760366e-04,   6.49057574e-06,\n",
       "          1.01734431e-05],\n",
       "       [  9.40797746e-01,   4.00202756e-04,   1.42815262e-02,\n",
       "          1.23934355e-02,   3.51267518e-04,   4.16093785e-03,\n",
       "          1.06013650e-02,   1.35066118e-02,   2.83166463e-03,\n",
       "          6.75406249e-04],\n",
       "       [  5.21320144e-05,   7.64323995e-05,   9.96111095e-01,\n",
       "          8.34410544e-04,   2.27509754e-05,   8.93329627e-07,\n",
       "          2.74849008e-05,   2.72291200e-03,   1.49501167e-04,\n",
       "          2.24688006e-06],\n",
       "       [  2.69596126e-06,   7.54893426e-06,   5.01929550e-04,\n",
       "          4.89561990e-06,   7.83437805e-04,   6.16823672e-04,\n",
       "          3.12355240e-07,   9.96342123e-01,   1.70892524e-03,\n",
       "          3.13809978e-05],\n",
       "       [  1.61786411e-05,   4.62100161e-06,   2.86351423e-07,\n",
       "          3.58932011e-04,   1.09067034e-04,   9.99414325e-01,\n",
       "          3.17083800e-06,   5.58590091e-06,   3.35544723e-06,\n",
       "          8.44706956e-05],\n",
       "       [  6.21855224e-06,   2.21551541e-04,   3.15386671e-07,\n",
       "          8.92755750e-04,   1.73029315e-04,   9.98531222e-01,\n",
       "          1.47927567e-04,   3.02489934e-06,   1.52890261e-05,\n",
       "          8.71718294e-06],\n",
       "       [  1.04818024e-01,   5.82259009e-03,   1.27573626e-03,\n",
       "          6.48114383e-02,   1.03963248e-03,   1.22803997e-03,\n",
       "          2.44400254e-03,   1.18340263e-02,   5.59255064e-01,\n",
       "          2.47471467e-01],\n",
       "       [  9.98325050e-01,   5.03247371e-04,   1.06361884e-04,\n",
       "          5.44466369e-04,   1.78232149e-05,   2.82736000e-05,\n",
       "          3.01931377e-05,   2.39738874e-04,   8.20357454e-05,\n",
       "          1.22742102e-04],\n",
       "       [  5.41393831e-07,   1.35297496e-05,   1.30827107e-06,\n",
       "          6.05909554e-06,   4.21173991e-06,   1.46978946e-05,\n",
       "          7.63258470e-07,   9.99951720e-01,   2.46620743e-06,\n",
       "          4.59071862e-06],\n",
       "       [  6.03941453e-06,   2.14567714e-04,   1.50874397e-03,\n",
       "          4.82094794e-04,   9.98476427e-03,   9.35915649e-01,\n",
       "          3.33901767e-06,   5.08554019e-02,   7.19866308e-04,\n",
       "          3.09463445e-04],\n",
       "       [  9.99670267e-01,   4.42667169e-06,   3.61061393e-05,\n",
       "          9.39899110e-06,   3.72331633e-05,   1.23206437e-05,\n",
       "          2.20670016e-04,   7.70226416e-06,   1.02778563e-06,\n",
       "          8.88600198e-07],\n",
       "       [  1.91434263e-03,   9.82494676e-04,   3.46565823e-04,\n",
       "          9.92240548e-01,   2.68679200e-04,   2.26784125e-03,\n",
       "          5.93304649e-05,   4.98363224e-04,   6.91212306e-04,\n",
       "          7.30649394e-04],\n",
       "       [  2.80772016e-04,   9.86717105e-01,   5.40562905e-03,\n",
       "          2.23445095e-04,   5.15622552e-04,   4.81941570e-05,\n",
       "          8.33822996e-04,   3.52567906e-04,   3.12383461e-04,\n",
       "          5.31027839e-03],\n",
       "       [  2.14328566e-06,   9.99490499e-01,   8.44416936e-05,\n",
       "          3.55917678e-07,   1.90911960e-04,   2.52967175e-06,\n",
       "          2.38550638e-05,   1.99892456e-04,   3.28989108e-06,\n",
       "          2.00928139e-06],\n",
       "       [  5.03899355e-05,   1.80102230e-04,   6.11473387e-03,\n",
       "          4.11838817e-04,   5.64054790e-05,   1.83300413e-02,\n",
       "          6.83134385e-06,   9.70075190e-01,   4.77176998e-03,\n",
       "          2.61443097e-06],\n",
       "       [  1.65729201e-03,   3.38639220e-05,   1.67023536e-05,\n",
       "          1.54769907e-06,   2.41133428e-04,   1.02607948e-04,\n",
       "          9.97927904e-01,   7.18580964e-07,   6.29437682e-06,\n",
       "          1.18983207e-05],\n",
       "       [  1.33864931e-03,   2.40125755e-05,   3.23617792e-06,\n",
       "          6.22373918e-05,   3.42471185e-06,   4.74203291e-04,\n",
       "          1.22909375e-06,   2.56776635e-04,   1.01025493e-04,\n",
       "          9.97735143e-01],\n",
       "       [  1.21057769e-06,   3.71656529e-06,   3.83764427e-06,\n",
       "          2.50480269e-07,   1.63658137e-06,   3.26065833e-06,\n",
       "          9.99979734e-01,   1.75978840e-08,   6.31145213e-06,\n",
       "          4.13875618e-08],\n",
       "       [  7.97510322e-04,   1.51060848e-02,   4.70673433e-03,\n",
       "          3.65996107e-06,   3.78373988e-06,   8.25816096e-06,\n",
       "          9.77965534e-01,   7.31395266e-06,   7.65029690e-04,\n",
       "          6.36042387e-04],\n",
       "       [  1.01342397e-04,   2.17923327e-04,   2.29449524e-05,\n",
       "          2.18711466e-05,   2.29279482e-04,   1.45077507e-03,\n",
       "          9.97723877e-01,   1.45003223e-05,   2.17307359e-04,\n",
       "          1.15521217e-07]], dtype=float32)"
      ]
     },
     "execution_count": 15,
     "metadata": {},
     "output_type": "execute_result"
    }
   ],
   "source": [
    "f.predict(X_test[:100])"
   ]
  },
  {
   "cell_type": "markdown",
   "metadata": {},
   "source": [
    "# Generator: g\n"
   ]
  },
  {
   "cell_type": "code",
   "execution_count": 15,
   "metadata": {
    "collapsed": true
   },
   "outputs": [],
   "source": [
    "def g_model():\n",
    "    return Sequential([\n",
    "        Conv2DTranspose(512, (4, 4), input_shape=(1, 1, 128), kernel_initializer='glorot_normal'),\n",
    "        BatchNormalization(),\n",
    "        Activation('relu'),\n",
    "        Conv2DTranspose(256, (5, 5), kernel_initializer='glorot_normal'),\n",
    "        BatchNormalization(),\n",
    "        Activation('relu'),\n",
    "        Conv2DTranspose(128, (9, 9), kernel_initializer='glorot_normal'),\n",
    "        BatchNormalization(),\n",
    "        Activation('relu'),\n",
    "        Conv2DTranspose(1, (17, 17), kernel_initializer='glorot_normal'),\n",
    "        Activation('tanh'),\n",
    "    ])\n",
    "\n",
    "def extract_f(f_classifier):\n",
    "    f = Sequential()\n",
    "    for i in range(13):\n",
    "        f.add(f_classifier.get_layer(index=i))\n",
    "    return f\n",
    "\n",
    "def discriminator():\n",
    "    return Sequential([\n",
    "        Conv2D(128, (3, 3), padding='same', input_shape=(32, 32, 1), kernel_initializer='glorot_normal'),\n",
    "        BatchNormalization(),  \n",
    "        Activation('relu'),\n",
    "        Conv2D(256, (3, 3), padding='same', kernel_initializer='glorot_normal'),\n",
    "        BatchNormalization(),  \n",
    "        Activation('relu'),\n",
    "        Conv2D(1, (4, 4), padding='valid', kernel_initializer='glorot_normal'),\n",
    "        Activation('relu'),\n",
    "        Flatten(),\n",
    "        Dense(1),\n",
    "        Activation('sigmoid'),\n",
    "    ])\n",
    "    \n",
    "def generator(f, g):\n",
    "    f.trainable = False\n",
    "    f_input = Input(shape=svhn_train_X[0].shape)\n",
    "    x = f(f_input)\n",
    "    g_output = g(x)\n",
    "    G = Model(inputs=f_input, outputs=g_output)\n",
    "    return G\n",
    "\n",
    "def trainable(net, val):\n",
    "    net.trainable = val\n",
    "    for l in net.layers:\n",
    "        l.trainable = val"
   ]
  },
  {
   "cell_type": "code",
   "execution_count": 20,
   "metadata": {
    "collapsed": true
   },
   "outputs": [],
   "source": [
    "# g = g_model()\n",
    "# f_baseline = extract_f(f)\n",
    "# G = generator(f_baseline, g)\n",
    "D = discriminator()"
   ]
  },
  {
   "cell_type": "code",
   "execution_count": 17,
   "metadata": {
    "collapsed": true
   },
   "outputs": [],
   "source": [
    "G.load_weights('G.h5')\n",
    "D.load_weights('D.h5')"
   ]
  },
  {
   "cell_type": "markdown",
   "metadata": {},
   "source": [
    "# Training G and D"
   ]
  },
  {
   "cell_type": "code",
   "execution_count": 18,
   "metadata": {
    "collapsed": true
   },
   "outputs": [],
   "source": [
    "def train(g, d, mnist_X, svhn_X, epochs=1):\n",
    "    for i in range(2000):\n",
    "        # Create batches\n",
    "        batch_mnist_X = mnist_X[np.random.randint(mnist_X.shape[0], size=100)] \n",
    "        batch_svhn_X = svhn_X[np.random.randint(svhn_X.shape[0], size=100)]\n",
    "        \n",
    "        print('Iteration {}'.format(i))\n",
    "        # Generate MNIST examples for SVHN for training\n",
    "        g_train_data = g.predict(batch_svhn_X)\n",
    "        \n",
    "        # Label as real or fake \n",
    "        real_labels, fake_labels = np.zeros(100), np.ones(100)\n",
    "        train_data, train_labels = np.vstack((batch_mnist_X, g_train_data)), np.hstack((real_labels, fake_labels))\n",
    "        train_data, train_labels = skl.utils.shuffle(train_data, train_labels)\n",
    "        \n",
    "        # Train discriminator on this real/fake data\n",
    "        print('Training Discriminator')\n",
    "        d.trainable = True\n",
    "        d.compile(loss='binary_crossentropy', optimizer='adam', metrics=['accuracy'])\n",
    "        d.fit(train_data, train_labels, batch_size=100, epochs=2)\n",
    "      \n",
    "        # Train generator based on the outputs of the discriminator\n",
    "        print('Training Generator')\n",
    "        g_d = generator_with_discriminator(g, d)\n",
    "        g_d.compile(loss=loss_function(batch_svhn_X, g), optimizer=Adam(lr=0.0003), metrics=['accuracy'])\n",
    "        g_d.fit(batch_svhn_X, np.zeros(batch_svhn_X.shape[0]), batch_size=100, epochs=4)\n",
    "        \n",
    "        g.save_weights('G.h5')\n",
    "        d.save_weights('D.h5')\n",
    "    return g, d\n",
    "\n",
    "def loss_function(svhn_X, g):\n",
    "    class_true = f.predict(svhn_X)\n",
    "    def loss(y_true, y_pred):\n",
    "        preds = g.predict(svhn_X)\n",
    "        stacked_preds = np.stack((preds, preds, preds), axis=3).reshape(preds.shape[0], 32, 32, 3)\n",
    "        class_pred = f.predict(stacked_preds)\n",
    "        loss_gan = keras.losses.mean_squared_error(y_true, y_pred)\n",
    "        loss_const = keras.losses.mean_squared_error(class_true, class_pred)\n",
    "        return 10 * loss_gan + loss_const\n",
    "    return loss\n",
    "\n",
    "def generator_with_discriminator(g, d):\n",
    "    d.trainable = False\n",
    "    gan_input = Input(shape=svhn_train_X[0].shape)\n",
    "    x = g(gan_input)\n",
    "    gan_output = d(x)\n",
    "    gan = Model(inputs=gan_input, outputs=gan_output)\n",
    "    return gan"
   ]
  },
  {
   "cell_type": "code",
   "execution_count": 21,
   "metadata": {
    "scrolled": false
   },
   "outputs": [
    {
     "name": "stdout",
     "output_type": "stream",
     "text": [
      "Iteration 0\n",
      "Training Discriminator\n",
      "Epoch 1/2\n",
      "200/200 [==============================] - 1s - loss: 0.4275 - acc: 0.7800     \n",
      "Epoch 2/2\n",
      "200/200 [==============================] - 0s - loss: 0.1141 - acc: 0.9550     \n",
      "Training Generator\n",
      "Epoch 1/4\n",
      "100/100 [==============================] - 1s - loss: 10.0468 - acc: 0.0000e+00\n",
      "Epoch 2/4\n",
      "100/100 [==============================] - 0s - loss: 9.6936 - acc: 0.0000e+00\n",
      "Epoch 3/4\n",
      "100/100 [==============================] - 0s - loss: 9.0009 - acc: 0.0000e+00\n",
      "Epoch 4/4\n",
      "100/100 [==============================] - 0s - loss: 6.4091 - acc: 0.0000e+00\n",
      "Iteration 1\n",
      "Training Discriminator\n",
      "Epoch 1/2\n",
      "200/200 [==============================] - 1s - loss: 0.3498 - acc: 0.8150     \n",
      "Epoch 2/2\n",
      "200/200 [==============================] - 0s - loss: 0.1364 - acc: 0.9550     \n",
      "Training Generator\n",
      "Epoch 1/4\n",
      "100/100 [==============================] - 1s - loss: 10.1404 - acc: 0.0000e+00\n",
      "Epoch 2/4\n",
      "100/100 [==============================] - 0s - loss: 10.1209 - acc: 0.0000e+00\n",
      "Epoch 3/4\n",
      "100/100 [==============================] - 0s - loss: 9.2362 - acc: 0.0000e+00\n",
      "Epoch 4/4\n",
      "100/100 [==============================] - 0s - loss: 5.1588 - acc: 0.0000e+00\n",
      "Iteration 2\n",
      "Training Discriminator\n",
      "Epoch 1/2\n",
      "200/200 [==============================] - 1s - loss: 0.0770 - acc: 0.9750     \n",
      "Epoch 2/2\n",
      "200/200 [==============================] - 0s - loss: 0.0060 - acc: 1.0000     \n",
      "Training Generator\n",
      "Epoch 1/4\n",
      "100/100 [==============================] - 1s - loss: 10.1003 - acc: 0.0000e+00\n",
      "Epoch 2/4\n",
      "100/100 [==============================] - 0s - loss: 10.0107 - acc: 0.0000e+00\n",
      "Epoch 3/4\n",
      "100/100 [==============================] - 0s - loss: 8.7830 - acc: 0.0000e+00\n",
      "Epoch 4/4\n",
      "100/100 [==============================] - 0s - loss: 3.1475 - acc: 0.3500\n",
      "Iteration 3\n",
      "Training Discriminator\n",
      "Epoch 1/2\n",
      "200/200 [==============================] - 1s - loss: 0.0068 - acc: 1.0000     \n",
      "Epoch 2/2\n",
      "200/200 [==============================] - 0s - loss: 5.7095e-04 - acc: 1.0000 \n",
      "Training Generator\n",
      "Epoch 1/4\n",
      "100/100 [==============================] - 2s - loss: 10.0611 - acc: 0.0000e+00\n",
      "Epoch 2/4\n",
      "100/100 [==============================] - 0s - loss: 9.0131 - acc: 0.0000e+00\n",
      "Epoch 3/4\n",
      "100/100 [==============================] - 0s - loss: 2.8385 - acc: 0.4700\n",
      "Epoch 4/4\n",
      "100/100 [==============================] - 0s - loss: 0.2701 - acc: 1.0000\n",
      "Iteration 4\n",
      "Training Discriminator\n",
      "Epoch 1/2\n",
      "200/200 [==============================] - 1s - loss: 5.1068e-05 - acc: 1.0000     \n",
      "Epoch 2/2\n",
      "200/200 [==============================] - 0s - loss: 1.6056e-06 - acc: 1.0000     \n",
      "Training Generator\n",
      "Epoch 1/4\n",
      "100/100 [==============================] - 2s - loss: 10.0669 - acc: 0.0000e+00\n",
      "Epoch 2/4\n",
      "100/100 [==============================] - 0s - loss: 9.5015 - acc: 0.0000e+00\n",
      "Epoch 3/4\n",
      "100/100 [==============================] - 0s - loss: 7.0913 - acc: 0.0000e+00\n",
      "Epoch 4/4\n",
      "100/100 [==============================] - 0s - loss: 2.3548 - acc: 0.6700\n",
      "Iteration 5\n",
      "Training Discriminator\n",
      "Epoch 1/2\n",
      "200/200 [==============================] - 1s - loss: 8.8150e-07 - acc: 1.0000     \n",
      "Epoch 2/2\n",
      "200/200 [==============================] - 0s - loss: 4.9996e-07 - acc: 1.0000     \n",
      "Training Generator\n",
      "Epoch 1/4\n",
      "100/100 [==============================] - 2s - loss: 10.1220 - acc: 0.0000e+00\n",
      "Epoch 2/4\n",
      "100/100 [==============================] - 0s - loss: 10.1189 - acc: 0.0000e+00\n",
      "Epoch 3/4\n",
      "100/100 [==============================] - 0s - loss: 10.0997 - acc: 0.0000e+00\n",
      "Epoch 4/4\n",
      "100/100 [==============================] - 0s - loss: 10.0442 - acc: 0.0000e+00\n",
      "Iteration 6\n",
      "Training Discriminator\n",
      "Epoch 1/2\n",
      "200/200 [==============================] - 1s - loss: 2.3893e-07 - acc: 1.0000     \n",
      "Epoch 2/2\n",
      "200/200 [==============================] - 0s - loss: 1.1855e-07 - acc: 1.0000     \n",
      "Training Generator\n",
      "Epoch 1/4\n",
      "100/100 [==============================] - 2s - loss: 7.6000 - acc: 0.0000e+00\n",
      "Epoch 2/4\n",
      "100/100 [==============================] - 0s - loss: 3.0059 - acc: 0.3600\n",
      "Epoch 3/4\n",
      "100/100 [==============================] - 0s - loss: 0.5686 - acc: 1.0000\n",
      "Epoch 4/4\n",
      "100/100 [==============================] - 0s - loss: 0.2141 - acc: 1.0000\n",
      "Iteration 7\n",
      "Training Discriminator\n",
      "Epoch 1/2\n",
      "200/200 [==============================] - 1s - loss: 7.4876e-05 - acc: 1.0000     \n",
      "Epoch 2/2\n",
      "200/200 [==============================] - 0s - loss: 1.4244e-07 - acc: 1.0000     \n",
      "Training Generator\n",
      "Epoch 1/4\n",
      "100/100 [==============================] - 2s - loss: 10.1386 - acc: 0.0000e+00\n",
      "Epoch 2/4\n",
      "100/100 [==============================] - 0s - loss: 9.9946 - acc: 0.0000e+00\n",
      "Epoch 3/4\n",
      "100/100 [==============================] - 0s - loss: 9.0388 - acc: 0.0000e+00\n",
      "Epoch 4/4\n",
      "100/100 [==============================] - 0s - loss: 4.5978 - acc: 0.0200\n",
      "Iteration 8\n",
      "Training Discriminator\n",
      "Epoch 1/2\n",
      "200/200 [==============================] - 2s - loss: 2.7871e-07 - acc: 1.0000     \n",
      "Epoch 2/2\n",
      "200/200 [==============================] - 0s - loss: 1.0960e-07 - acc: 1.0000     \n",
      "Training Generator\n",
      "Epoch 1/4\n",
      "100/100 [==============================] - 3s - loss: 0.1246 - acc: 1.0000\n",
      "Epoch 2/4\n",
      "100/100 [==============================] - 0s - loss: 0.1246 - acc: 1.0000\n",
      "Epoch 3/4\n",
      "100/100 [==============================] - 0s - loss: 0.1246 - acc: 1.0000\n",
      "Epoch 4/4\n",
      "100/100 [==============================] - 0s - loss: 0.1246 - acc: 1.0000\n",
      "Iteration 9\n",
      "Training Discriminator\n",
      "Epoch 1/2\n",
      "200/200 [==============================] - 2s - loss: 1.0960e-07 - acc: 1.0000     \n",
      "Epoch 2/2\n",
      "200/200 [==============================] - 0s - loss: 1.0960e-07 - acc: 1.0000     \n",
      "Training Generator\n",
      "Epoch 1/4\n",
      "100/100 [==============================] - 2s - loss: 0.1316 - acc: 1.0000\n",
      "Epoch 2/4\n",
      "100/100 [==============================] - 0s - loss: 0.1316 - acc: 1.0000\n",
      "Epoch 3/4\n",
      "100/100 [==============================] - 0s - loss: 0.1316 - acc: 1.0000\n",
      "Epoch 4/4\n",
      "100/100 [==============================] - 0s - loss: 0.1316 - acc: 1.0000\n",
      "Iteration 10\n",
      "Training Discriminator\n",
      "Epoch 1/2\n",
      "200/200 [==============================] - 2s - loss: 1.0960e-07 - acc: 1.0000     \n",
      "Epoch 2/2\n",
      "200/200 [==============================] - 0s - loss: 1.0960e-07 - acc: 1.0000     \n",
      "Training Generator\n",
      "Epoch 1/4\n",
      "100/100 [==============================] - 2s - loss: 0.1323 - acc: 1.0000\n",
      "Epoch 2/4\n",
      "100/100 [==============================] - 0s - loss: 0.1323 - acc: 1.0000\n",
      "Epoch 3/4\n",
      "100/100 [==============================] - 0s - loss: 0.1323 - acc: 1.0000\n",
      "Epoch 4/4\n",
      "100/100 [==============================] - 0s - loss: 0.1323 - acc: 1.0000\n",
      "Iteration 11\n",
      "Training Discriminator\n",
      "Epoch 1/2\n",
      "200/200 [==============================] - 2s - loss: 1.0960e-07 - acc: 1.0000     \n",
      "Epoch 2/2\n",
      "200/200 [==============================] - 0s - loss: 1.0960e-07 - acc: 1.0000     \n",
      "Training Generator\n",
      "Epoch 1/4\n",
      "100/100 [==============================] - 2s - loss: 0.1310 - acc: 1.0000\n",
      "Epoch 2/4\n",
      "100/100 [==============================] - 0s - loss: 0.1310 - acc: 1.0000\n",
      "Epoch 3/4\n",
      "100/100 [==============================] - 0s - loss: 0.1310 - acc: 1.0000\n",
      "Epoch 4/4\n",
      "100/100 [==============================] - 0s - loss: 0.1310 - acc: 1.0000\n",
      "Iteration 12\n",
      "Training Discriminator\n",
      "Epoch 1/2\n",
      "200/200 [==============================] - 2s - loss: 1.0960e-07 - acc: 1.0000     \n",
      "Epoch 2/2\n",
      "200/200 [==============================] - 0s - loss: 1.0960e-07 - acc: 1.0000     \n",
      "Training Generator\n",
      "Epoch 1/4\n",
      "100/100 [==============================] - 2s - loss: 0.1429 - acc: 1.0000\n",
      "Epoch 2/4\n",
      "100/100 [==============================] - 0s - loss: 0.1429 - acc: 1.0000\n",
      "Epoch 3/4\n",
      "100/100 [==============================] - 0s - loss: 0.1429 - acc: 1.0000\n",
      "Epoch 4/4\n",
      "100/100 [==============================] - 0s - loss: 0.1429 - acc: 1.0000\n",
      "Iteration 13\n",
      "Training Discriminator\n",
      "Epoch 1/2\n",
      "200/200 [==============================] - 2s - loss: 1.0960e-07 - acc: 1.0000     \n",
      "Epoch 2/2\n",
      "200/200 [==============================] - 0s - loss: 1.0960e-07 - acc: 1.0000     \n",
      "Training Generator\n",
      "Epoch 1/4\n",
      "100/100 [==============================] - 2s - loss: 0.1471 - acc: 1.0000\n",
      "Epoch 2/4\n",
      "100/100 [==============================] - 0s - loss: 0.1471 - acc: 1.0000\n",
      "Epoch 3/4\n",
      "100/100 [==============================] - 0s - loss: 0.1471 - acc: 1.0000\n",
      "Epoch 4/4\n"
     ]
    },
    {
     "name": "stdout",
     "output_type": "stream",
     "text": [
      "100/100 [==============================] - 0s - loss: 0.1471 - acc: 1.0000\n",
      "Iteration 14\n",
      "Training Discriminator\n",
      "Epoch 1/2\n",
      "200/200 [==============================] - 2s - loss: 1.0960e-07 - acc: 1.0000     \n",
      "Epoch 2/2\n",
      "200/200 [==============================] - 0s - loss: 1.0960e-07 - acc: 1.0000     \n",
      "Training Generator\n",
      "Epoch 1/4\n",
      "100/100 [==============================] - 2s - loss: 0.1443 - acc: 1.0000\n",
      "Epoch 2/4\n",
      "100/100 [==============================] - 0s - loss: 0.1443 - acc: 1.0000\n",
      "Epoch 3/4\n",
      "100/100 [==============================] - 0s - loss: 0.1443 - acc: 1.0000\n",
      "Epoch 4/4\n",
      "100/100 [==============================] - 0s - loss: 0.1443 - acc: 1.0000\n",
      "Iteration 15\n",
      "Training Discriminator\n",
      "Epoch 1/2\n",
      "200/200 [==============================] - 2s - loss: 1.0960e-07 - acc: 1.0000     \n",
      "Epoch 2/2\n",
      "200/200 [==============================] - 0s - loss: 1.0960e-07 - acc: 1.0000     \n",
      "Training Generator\n",
      "Epoch 1/4\n",
      "100/100 [==============================] - 4s - loss: 0.1421 - acc: 1.0000\n",
      "Epoch 2/4\n",
      "100/100 [==============================] - 0s - loss: 0.1421 - acc: 1.0000\n",
      "Epoch 3/4\n",
      "100/100 [==============================] - 0s - loss: 0.1421 - acc: 1.0000\n",
      "Epoch 4/4\n",
      "100/100 [==============================] - 0s - loss: 0.1421 - acc: 1.0000\n",
      "Iteration 16\n",
      "Training Discriminator\n",
      "Epoch 1/2\n",
      "200/200 [==============================] - 2s - loss: 1.0960e-07 - acc: 1.0000     \n",
      "Epoch 2/2\n",
      "200/200 [==============================] - 0s - loss: 1.0960e-07 - acc: 1.0000     \n",
      "Training Generator\n",
      "Epoch 1/4\n",
      "100/100 [==============================] - 2s - loss: 0.1418 - acc: 1.0000\n",
      "Epoch 2/4\n",
      "100/100 [==============================] - 0s - loss: 0.1418 - acc: 1.0000\n",
      "Epoch 3/4\n",
      "100/100 [==============================] - 0s - loss: 0.1418 - acc: 1.0000\n",
      "Epoch 4/4\n",
      "100/100 [==============================] - 0s - loss: 0.1418 - acc: 1.0000\n",
      "Iteration 17\n",
      "Training Discriminator\n",
      "Epoch 1/2\n",
      "100/200 [==============>...............] - ETA: 2s - loss: 1.0960e-07 - acc: 1.0000"
     ]
    },
    {
     "ename": "KeyboardInterrupt",
     "evalue": "",
     "output_type": "error",
     "traceback": [
      "\u001b[0;31m---------------------------------------------------------------------------\u001b[0m",
      "\u001b[0;31mKeyboardInterrupt\u001b[0m                         Traceback (most recent call last)",
      "\u001b[0;32m<ipython-input-21-e739c8391e4b>\u001b[0m in \u001b[0;36m<module>\u001b[0;34m()\u001b[0m\n\u001b[0;32m----> 1\u001b[0;31m \u001b[0mG\u001b[0m\u001b[0;34m,\u001b[0m \u001b[0mD\u001b[0m \u001b[0;34m=\u001b[0m \u001b[0mtrain\u001b[0m\u001b[0;34m(\u001b[0m\u001b[0mG\u001b[0m\u001b[0;34m,\u001b[0m \u001b[0mD\u001b[0m\u001b[0;34m,\u001b[0m \u001b[0mmnist_test_X\u001b[0m\u001b[0;34m[\u001b[0m\u001b[0;34m:\u001b[0m\u001b[0;36m10000\u001b[0m\u001b[0;34m]\u001b[0m\u001b[0;34m,\u001b[0m \u001b[0msvhn_test_X\u001b[0m\u001b[0;34m[\u001b[0m\u001b[0;34m:\u001b[0m\u001b[0;36m10000\u001b[0m\u001b[0;34m]\u001b[0m\u001b[0;34m)\u001b[0m\u001b[0;34m\u001b[0m\u001b[0m\n\u001b[0m",
      "\u001b[0;32m<ipython-input-18-97dbfdfede51>\u001b[0m in \u001b[0;36mtrain\u001b[0;34m(g, d, mnist_X, svhn_X, epochs)\u001b[0m\n\u001b[1;32m     18\u001b[0m         \u001b[0md\u001b[0m\u001b[0;34m.\u001b[0m\u001b[0mtrainable\u001b[0m \u001b[0;34m=\u001b[0m \u001b[0;32mTrue\u001b[0m\u001b[0;34m\u001b[0m\u001b[0m\n\u001b[1;32m     19\u001b[0m         \u001b[0md\u001b[0m\u001b[0;34m.\u001b[0m\u001b[0mcompile\u001b[0m\u001b[0;34m(\u001b[0m\u001b[0mloss\u001b[0m\u001b[0;34m=\u001b[0m\u001b[0;34m'binary_crossentropy'\u001b[0m\u001b[0;34m,\u001b[0m \u001b[0moptimizer\u001b[0m\u001b[0;34m=\u001b[0m\u001b[0;34m'adam'\u001b[0m\u001b[0;34m,\u001b[0m \u001b[0mmetrics\u001b[0m\u001b[0;34m=\u001b[0m\u001b[0;34m[\u001b[0m\u001b[0;34m'accuracy'\u001b[0m\u001b[0;34m]\u001b[0m\u001b[0;34m)\u001b[0m\u001b[0;34m\u001b[0m\u001b[0m\n\u001b[0;32m---> 20\u001b[0;31m         \u001b[0md\u001b[0m\u001b[0;34m.\u001b[0m\u001b[0mfit\u001b[0m\u001b[0;34m(\u001b[0m\u001b[0mtrain_data\u001b[0m\u001b[0;34m,\u001b[0m \u001b[0mtrain_labels\u001b[0m\u001b[0;34m,\u001b[0m \u001b[0mbatch_size\u001b[0m\u001b[0;34m=\u001b[0m\u001b[0;36m100\u001b[0m\u001b[0;34m,\u001b[0m \u001b[0mepochs\u001b[0m\u001b[0;34m=\u001b[0m\u001b[0;36m2\u001b[0m\u001b[0;34m)\u001b[0m\u001b[0;34m\u001b[0m\u001b[0m\n\u001b[0m\u001b[1;32m     21\u001b[0m \u001b[0;34m\u001b[0m\u001b[0m\n\u001b[1;32m     22\u001b[0m         \u001b[0;31m# Train generator based on the outputs of the discriminator\u001b[0m\u001b[0;34m\u001b[0m\u001b[0;34m\u001b[0m\u001b[0m\n",
      "\u001b[0;32m~/.anaconda2/envs/tensorflow/lib/python3.5/site-packages/keras/models.py\u001b[0m in \u001b[0;36mfit\u001b[0;34m(self, x, y, batch_size, epochs, verbose, callbacks, validation_split, validation_data, shuffle, class_weight, sample_weight, initial_epoch, **kwargs)\u001b[0m\n\u001b[1;32m    861\u001b[0m                               \u001b[0mclass_weight\u001b[0m\u001b[0;34m=\u001b[0m\u001b[0mclass_weight\u001b[0m\u001b[0;34m,\u001b[0m\u001b[0;34m\u001b[0m\u001b[0m\n\u001b[1;32m    862\u001b[0m                               \u001b[0msample_weight\u001b[0m\u001b[0;34m=\u001b[0m\u001b[0msample_weight\u001b[0m\u001b[0;34m,\u001b[0m\u001b[0;34m\u001b[0m\u001b[0m\n\u001b[0;32m--> 863\u001b[0;31m                               initial_epoch=initial_epoch)\n\u001b[0m\u001b[1;32m    864\u001b[0m \u001b[0;34m\u001b[0m\u001b[0m\n\u001b[1;32m    865\u001b[0m     def evaluate(self, x, y, batch_size=32, verbose=1,\n",
      "\u001b[0;32m~/.anaconda2/envs/tensorflow/lib/python3.5/site-packages/keras/engine/training.py\u001b[0m in \u001b[0;36mfit\u001b[0;34m(self, x, y, batch_size, epochs, verbose, callbacks, validation_split, validation_data, shuffle, class_weight, sample_weight, initial_epoch, **kwargs)\u001b[0m\n\u001b[1;32m   1428\u001b[0m                               \u001b[0mval_f\u001b[0m\u001b[0;34m=\u001b[0m\u001b[0mval_f\u001b[0m\u001b[0;34m,\u001b[0m \u001b[0mval_ins\u001b[0m\u001b[0;34m=\u001b[0m\u001b[0mval_ins\u001b[0m\u001b[0;34m,\u001b[0m \u001b[0mshuffle\u001b[0m\u001b[0;34m=\u001b[0m\u001b[0mshuffle\u001b[0m\u001b[0;34m,\u001b[0m\u001b[0;34m\u001b[0m\u001b[0m\n\u001b[1;32m   1429\u001b[0m                               \u001b[0mcallback_metrics\u001b[0m\u001b[0;34m=\u001b[0m\u001b[0mcallback_metrics\u001b[0m\u001b[0;34m,\u001b[0m\u001b[0;34m\u001b[0m\u001b[0m\n\u001b[0;32m-> 1430\u001b[0;31m                               initial_epoch=initial_epoch)\n\u001b[0m\u001b[1;32m   1431\u001b[0m \u001b[0;34m\u001b[0m\u001b[0m\n\u001b[1;32m   1432\u001b[0m     \u001b[0;32mdef\u001b[0m \u001b[0mevaluate\u001b[0m\u001b[0;34m(\u001b[0m\u001b[0mself\u001b[0m\u001b[0;34m,\u001b[0m \u001b[0mx\u001b[0m\u001b[0;34m,\u001b[0m \u001b[0my\u001b[0m\u001b[0;34m,\u001b[0m \u001b[0mbatch_size\u001b[0m\u001b[0;34m=\u001b[0m\u001b[0;36m32\u001b[0m\u001b[0;34m,\u001b[0m \u001b[0mverbose\u001b[0m\u001b[0;34m=\u001b[0m\u001b[0;36m1\u001b[0m\u001b[0;34m,\u001b[0m \u001b[0msample_weight\u001b[0m\u001b[0;34m=\u001b[0m\u001b[0;32mNone\u001b[0m\u001b[0;34m)\u001b[0m\u001b[0;34m:\u001b[0m\u001b[0;34m\u001b[0m\u001b[0m\n",
      "\u001b[0;32m~/.anaconda2/envs/tensorflow/lib/python3.5/site-packages/keras/engine/training.py\u001b[0m in \u001b[0;36m_fit_loop\u001b[0;34m(self, f, ins, out_labels, batch_size, epochs, verbose, callbacks, val_f, val_ins, shuffle, callback_metrics, initial_epoch)\u001b[0m\n\u001b[1;32m   1077\u001b[0m                 \u001b[0mbatch_logs\u001b[0m\u001b[0;34m[\u001b[0m\u001b[0;34m'size'\u001b[0m\u001b[0;34m]\u001b[0m \u001b[0;34m=\u001b[0m \u001b[0mlen\u001b[0m\u001b[0;34m(\u001b[0m\u001b[0mbatch_ids\u001b[0m\u001b[0;34m)\u001b[0m\u001b[0;34m\u001b[0m\u001b[0m\n\u001b[1;32m   1078\u001b[0m                 \u001b[0mcallbacks\u001b[0m\u001b[0;34m.\u001b[0m\u001b[0mon_batch_begin\u001b[0m\u001b[0;34m(\u001b[0m\u001b[0mbatch_index\u001b[0m\u001b[0;34m,\u001b[0m \u001b[0mbatch_logs\u001b[0m\u001b[0;34m)\u001b[0m\u001b[0;34m\u001b[0m\u001b[0m\n\u001b[0;32m-> 1079\u001b[0;31m                 \u001b[0mouts\u001b[0m \u001b[0;34m=\u001b[0m \u001b[0mf\u001b[0m\u001b[0;34m(\u001b[0m\u001b[0mins_batch\u001b[0m\u001b[0;34m)\u001b[0m\u001b[0;34m\u001b[0m\u001b[0m\n\u001b[0m\u001b[1;32m   1080\u001b[0m                 \u001b[0;32mif\u001b[0m \u001b[0;32mnot\u001b[0m \u001b[0misinstance\u001b[0m\u001b[0;34m(\u001b[0m\u001b[0mouts\u001b[0m\u001b[0;34m,\u001b[0m \u001b[0mlist\u001b[0m\u001b[0;34m)\u001b[0m\u001b[0;34m:\u001b[0m\u001b[0;34m\u001b[0m\u001b[0m\n\u001b[1;32m   1081\u001b[0m                     \u001b[0mouts\u001b[0m \u001b[0;34m=\u001b[0m \u001b[0;34m[\u001b[0m\u001b[0mouts\u001b[0m\u001b[0;34m]\u001b[0m\u001b[0;34m\u001b[0m\u001b[0m\n",
      "\u001b[0;32m~/.anaconda2/envs/tensorflow/lib/python3.5/site-packages/keras/backend/tensorflow_backend.py\u001b[0m in \u001b[0;36m__call__\u001b[0;34m(self, inputs)\u001b[0m\n\u001b[1;32m   2266\u001b[0m         updated = session.run(self.outputs + [self.updates_op],\n\u001b[1;32m   2267\u001b[0m                               \u001b[0mfeed_dict\u001b[0m\u001b[0;34m=\u001b[0m\u001b[0mfeed_dict\u001b[0m\u001b[0;34m,\u001b[0m\u001b[0;34m\u001b[0m\u001b[0m\n\u001b[0;32m-> 2268\u001b[0;31m                               **self.session_kwargs)\n\u001b[0m\u001b[1;32m   2269\u001b[0m         \u001b[0;32mreturn\u001b[0m \u001b[0mupdated\u001b[0m\u001b[0;34m[\u001b[0m\u001b[0;34m:\u001b[0m\u001b[0mlen\u001b[0m\u001b[0;34m(\u001b[0m\u001b[0mself\u001b[0m\u001b[0;34m.\u001b[0m\u001b[0moutputs\u001b[0m\u001b[0;34m)\u001b[0m\u001b[0;34m]\u001b[0m\u001b[0;34m\u001b[0m\u001b[0m\n\u001b[1;32m   2270\u001b[0m \u001b[0;34m\u001b[0m\u001b[0m\n",
      "\u001b[0;32m~/.anaconda2/envs/tensorflow/lib/python3.5/site-packages/tensorflow/python/client/session.py\u001b[0m in \u001b[0;36mrun\u001b[0;34m(self, fetches, feed_dict, options, run_metadata)\u001b[0m\n\u001b[1;32m    893\u001b[0m     \u001b[0;32mtry\u001b[0m\u001b[0;34m:\u001b[0m\u001b[0;34m\u001b[0m\u001b[0m\n\u001b[1;32m    894\u001b[0m       result = self._run(None, fetches, feed_dict, options_ptr,\n\u001b[0;32m--> 895\u001b[0;31m                          run_metadata_ptr)\n\u001b[0m\u001b[1;32m    896\u001b[0m       \u001b[0;32mif\u001b[0m \u001b[0mrun_metadata\u001b[0m\u001b[0;34m:\u001b[0m\u001b[0;34m\u001b[0m\u001b[0m\n\u001b[1;32m    897\u001b[0m         \u001b[0mproto_data\u001b[0m \u001b[0;34m=\u001b[0m \u001b[0mtf_session\u001b[0m\u001b[0;34m.\u001b[0m\u001b[0mTF_GetBuffer\u001b[0m\u001b[0;34m(\u001b[0m\u001b[0mrun_metadata_ptr\u001b[0m\u001b[0;34m)\u001b[0m\u001b[0;34m\u001b[0m\u001b[0m\n",
      "\u001b[0;32m~/.anaconda2/envs/tensorflow/lib/python3.5/site-packages/tensorflow/python/client/session.py\u001b[0m in \u001b[0;36m_run\u001b[0;34m(self, handle, fetches, feed_dict, options, run_metadata)\u001b[0m\n\u001b[1;32m   1122\u001b[0m     \u001b[0;32mif\u001b[0m \u001b[0mfinal_fetches\u001b[0m \u001b[0;32mor\u001b[0m \u001b[0mfinal_targets\u001b[0m \u001b[0;32mor\u001b[0m \u001b[0;34m(\u001b[0m\u001b[0mhandle\u001b[0m \u001b[0;32mand\u001b[0m \u001b[0mfeed_dict_tensor\u001b[0m\u001b[0;34m)\u001b[0m\u001b[0;34m:\u001b[0m\u001b[0;34m\u001b[0m\u001b[0m\n\u001b[1;32m   1123\u001b[0m       results = self._do_run(handle, final_targets, final_fetches,\n\u001b[0;32m-> 1124\u001b[0;31m                              feed_dict_tensor, options, run_metadata)\n\u001b[0m\u001b[1;32m   1125\u001b[0m     \u001b[0;32melse\u001b[0m\u001b[0;34m:\u001b[0m\u001b[0;34m\u001b[0m\u001b[0m\n\u001b[1;32m   1126\u001b[0m       \u001b[0mresults\u001b[0m \u001b[0;34m=\u001b[0m \u001b[0;34m[\u001b[0m\u001b[0;34m]\u001b[0m\u001b[0;34m\u001b[0m\u001b[0m\n",
      "\u001b[0;32m~/.anaconda2/envs/tensorflow/lib/python3.5/site-packages/tensorflow/python/client/session.py\u001b[0m in \u001b[0;36m_do_run\u001b[0;34m(self, handle, target_list, fetch_list, feed_dict, options, run_metadata)\u001b[0m\n\u001b[1;32m   1319\u001b[0m     \u001b[0;32mif\u001b[0m \u001b[0mhandle\u001b[0m \u001b[0;32mis\u001b[0m \u001b[0;32mNone\u001b[0m\u001b[0;34m:\u001b[0m\u001b[0;34m\u001b[0m\u001b[0m\n\u001b[1;32m   1320\u001b[0m       return self._do_call(_run_fn, self._session, feeds, fetches, targets,\n\u001b[0;32m-> 1321\u001b[0;31m                            options, run_metadata)\n\u001b[0m\u001b[1;32m   1322\u001b[0m     \u001b[0;32melse\u001b[0m\u001b[0;34m:\u001b[0m\u001b[0;34m\u001b[0m\u001b[0m\n\u001b[1;32m   1323\u001b[0m       \u001b[0;32mreturn\u001b[0m \u001b[0mself\u001b[0m\u001b[0;34m.\u001b[0m\u001b[0m_do_call\u001b[0m\u001b[0;34m(\u001b[0m\u001b[0m_prun_fn\u001b[0m\u001b[0;34m,\u001b[0m \u001b[0mself\u001b[0m\u001b[0;34m.\u001b[0m\u001b[0m_session\u001b[0m\u001b[0;34m,\u001b[0m \u001b[0mhandle\u001b[0m\u001b[0;34m,\u001b[0m \u001b[0mfeeds\u001b[0m\u001b[0;34m,\u001b[0m \u001b[0mfetches\u001b[0m\u001b[0;34m)\u001b[0m\u001b[0;34m\u001b[0m\u001b[0m\n",
      "\u001b[0;32m~/.anaconda2/envs/tensorflow/lib/python3.5/site-packages/tensorflow/python/client/session.py\u001b[0m in \u001b[0;36m_do_call\u001b[0;34m(self, fn, *args)\u001b[0m\n\u001b[1;32m   1325\u001b[0m   \u001b[0;32mdef\u001b[0m \u001b[0m_do_call\u001b[0m\u001b[0;34m(\u001b[0m\u001b[0mself\u001b[0m\u001b[0;34m,\u001b[0m \u001b[0mfn\u001b[0m\u001b[0;34m,\u001b[0m \u001b[0;34m*\u001b[0m\u001b[0margs\u001b[0m\u001b[0;34m)\u001b[0m\u001b[0;34m:\u001b[0m\u001b[0;34m\u001b[0m\u001b[0m\n\u001b[1;32m   1326\u001b[0m     \u001b[0;32mtry\u001b[0m\u001b[0;34m:\u001b[0m\u001b[0;34m\u001b[0m\u001b[0m\n\u001b[0;32m-> 1327\u001b[0;31m       \u001b[0;32mreturn\u001b[0m \u001b[0mfn\u001b[0m\u001b[0;34m(\u001b[0m\u001b[0;34m*\u001b[0m\u001b[0margs\u001b[0m\u001b[0;34m)\u001b[0m\u001b[0;34m\u001b[0m\u001b[0m\n\u001b[0m\u001b[1;32m   1328\u001b[0m     \u001b[0;32mexcept\u001b[0m \u001b[0merrors\u001b[0m\u001b[0;34m.\u001b[0m\u001b[0mOpError\u001b[0m \u001b[0;32mas\u001b[0m \u001b[0me\u001b[0m\u001b[0;34m:\u001b[0m\u001b[0;34m\u001b[0m\u001b[0m\n\u001b[1;32m   1329\u001b[0m       \u001b[0mmessage\u001b[0m \u001b[0;34m=\u001b[0m \u001b[0mcompat\u001b[0m\u001b[0;34m.\u001b[0m\u001b[0mas_text\u001b[0m\u001b[0;34m(\u001b[0m\u001b[0me\u001b[0m\u001b[0;34m.\u001b[0m\u001b[0mmessage\u001b[0m\u001b[0;34m)\u001b[0m\u001b[0;34m\u001b[0m\u001b[0m\n",
      "\u001b[0;32m~/.anaconda2/envs/tensorflow/lib/python3.5/site-packages/tensorflow/python/client/session.py\u001b[0m in \u001b[0;36m_run_fn\u001b[0;34m(session, feed_dict, fetch_list, target_list, options, run_metadata)\u001b[0m\n\u001b[1;32m   1304\u001b[0m           return tf_session.TF_Run(session, options,\n\u001b[1;32m   1305\u001b[0m                                    \u001b[0mfeed_dict\u001b[0m\u001b[0;34m,\u001b[0m \u001b[0mfetch_list\u001b[0m\u001b[0;34m,\u001b[0m \u001b[0mtarget_list\u001b[0m\u001b[0;34m,\u001b[0m\u001b[0;34m\u001b[0m\u001b[0m\n\u001b[0;32m-> 1306\u001b[0;31m                                    status, run_metadata)\n\u001b[0m\u001b[1;32m   1307\u001b[0m \u001b[0;34m\u001b[0m\u001b[0m\n\u001b[1;32m   1308\u001b[0m     \u001b[0;32mdef\u001b[0m \u001b[0m_prun_fn\u001b[0m\u001b[0;34m(\u001b[0m\u001b[0msession\u001b[0m\u001b[0;34m,\u001b[0m \u001b[0mhandle\u001b[0m\u001b[0;34m,\u001b[0m \u001b[0mfeed_dict\u001b[0m\u001b[0;34m,\u001b[0m \u001b[0mfetch_list\u001b[0m\u001b[0;34m)\u001b[0m\u001b[0;34m:\u001b[0m\u001b[0;34m\u001b[0m\u001b[0m\n",
      "\u001b[0;31mKeyboardInterrupt\u001b[0m: "
     ]
    }
   ],
   "source": [
    "G, D = train(G, D, mnist_test_X[:10000], svhn_test_X[:10000])"
   ]
  },
  {
   "cell_type": "code",
   "execution_count": 22,
   "metadata": {},
   "outputs": [
    {
     "data": {
      "text/plain": [
       "array([[  1.26313585e-10],\n",
       "       [  8.28686633e-11],\n",
       "       [  7.51267937e-11],\n",
       "       [  1.16633286e-10],\n",
       "       [  1.52145768e-10],\n",
       "       [  1.07475091e-10],\n",
       "       [  1.54865704e-10],\n",
       "       [  1.38284259e-10],\n",
       "       [  1.13141704e-10],\n",
       "       [  1.12097345e-10]], dtype=float32)"
      ]
     },
     "execution_count": 22,
     "metadata": {},
     "output_type": "execute_result"
    },
    {
     "data": {
      "image/png": "[encoded data removed]",
      "text/plain": [
       "<matplotlib.figure.Figure at 0x7f1485fbbd30>"
      ]
     },
     "metadata": {},
     "output_type": "display_data"
    },
    {
     "data": {
      "image/png": "[encoded data removed]",
      "text/plain": [
       "<matplotlib.figure.Figure at 0x7f18c5683d30>"
      ]
     },
     "metadata": {},
     "output_type": "display_data"
    },
    {
     "data": {
      "image/png": "[encoded data removed]",
      "text/plain": [
       "<matplotlib.figure.Figure at 0x7f14861c4240>"
      ]
     },
     "metadata": {},
     "output_type": "display_data"
    },
    {
     "data": {
      "image/png": "[encoded data removed]",
      "text/plain": [
       "<matplotlib.figure.Figure at 0x7f1486197940>"
      ]
     },
     "metadata": {},
     "output_type": "display_data"
    },
    {
     "data": {
      "image/png": "[encoded data removed]",
      "text/plain": [
       "<matplotlib.figure.Figure at 0x7f1486130780>"
      ]
     },
     "metadata": {},
     "output_type": "display_data"
    },
    {
     "data": {
      "image/png": "[encoded data removed]",
      "text/plain": [
       "<matplotlib.figure.Figure at 0x7f14860de208>"
      ]
     },
     "metadata": {},
     "output_type": "display_data"
    },
    {
     "data": {
      "image/png": "[encoded data removed]",
      "text/plain": [
       "<matplotlib.figure.Figure at 0x7f148600cf98>"
      ]
     },
     "metadata": {},
     "output_type": "display_data"
    },
    {
     "data": {
      "image/png": "[encoded data removed]",
      "text/plain": [
       "<matplotlib.figure.Figure at 0x7f1486054128>"
      ]
     },
     "metadata": {},
     "output_type": "display_data"
    },
    {
     "data": {
      "image/png": "[encoded data removed]",
      "text/plain": [
       "<matplotlib.figure.Figure at 0x7f1484565390>"
      ]
     },
     "metadata": {},
     "output_type": "display_data"
    },
    {
     "data": {
      "image/png": "[encoded data removed]",
      "text/plain": [
       "<matplotlib.figure.Figure at 0x7f148452bc88>"
      ]
     },
     "metadata": {},
     "output_type": "display_data"
    },
    {
     "data": {
      "image/png": "[encoded data removed]",
      "text/plain": [
       "<matplotlib.figure.Figure at 0x7f1484488f60>"
      ]
     },
     "metadata": {},
     "output_type": "display_data"
    },
    {
     "data": {
      "image/png": "[encoded data removed]",
      "text/plain": [
       "<matplotlib.figure.Figure at 0x7f1484460978>"
      ]
     },
     "metadata": {},
     "output_type": "display_data"
    },
    {
     "data": {
      "image/png": "[encoded data removed]",
      "text/plain": [
       "<matplotlib.figure.Figure at 0x7f1484403048>"
      ]
     },
     "metadata": {},
     "output_type": "display_data"
    },
    {
     "data": {
      "image/png": "[encoded data removed]",
      "text/plain": [
       "<matplotlib.figure.Figure at 0x7f148438e710>"
      ]
     },
     "metadata": {},
     "output_type": "display_data"
    },
    {
     "data": {
      "image/png": "[encoded data removed]",
      "text/plain": [
       "<matplotlib.figure.Figure at 0x7f148434dcf8>"
      ]
     },
     "metadata": {},
     "output_type": "display_data"
    },
    {
     "data": {
      "image/png": "[encoded data removed]",
      "text/plain": [
       "<matplotlib.figure.Figure at 0x7f14842ba5c0>"
      ]
     },
     "metadata": {},
     "output_type": "display_data"
    },
    {
     "data": {
      "image/png": "[encoded data removed]",
      "text/plain": [
       "<matplotlib.figure.Figure at 0x7f1484283f28>"
      ]
     },
     "metadata": {},
     "output_type": "display_data"
    },
    {
     "data": {
      "image/png": "[encoded data removed]",
      "text/plain": [
       "<matplotlib.figure.Figure at 0x7f1484262d30>"
      ]
     },
     "metadata": {},
     "output_type": "display_data"
    },
    {
     "data": {
      "image/png": "[encoded data removed]",
      "text/plain": [
       "<matplotlib.figure.Figure at 0x7f14841b7780>"
      ]
     },
     "metadata": {},
     "output_type": "display_data"
    },
    {
     "data": {
      "image/png": "[encoded data removed]",
      "text/plain": [
       "<matplotlib.figure.Figure at 0x7f14841fbd30>"
      ]
     },
     "metadata": {},
     "output_type": "display_data"
    }
   ],
   "source": [
    "g_images = G.predict(svhn_test_X[:10])\n",
    "for i in range(10):\n",
    "    plt.figure()\n",
    "    plt.imshow(svhn_train_X[i])\n",
    "    plt.figure()\n",
    "    plt.imshow(g_images[i][:, :, 0], cmap='gray')\n",
    "D.predict(g_images)"
   ]
  },
  {
   "cell_type": "code",
   "execution_count": null,
   "metadata": {
    "collapsed": true
   },
   "outputs": [],
   "source": []
  }
 ],
 "metadata": {
  "anaconda-cloud": {},
  "kernelspec": {
   "display_name": "Python 3",
   "language": "python",
   "name": "python3"
  },
  "language_info": {
   "codemirror_mode": {
    "name": "ipython",
    "version": 3
   },
   "file_extension": ".py",
   "mimetype": "text/x-python",
   "name": "python",
   "nbconvert_exporter": "python",
   "pygments_lexer": "ipython3",
   "version": "3.5.4"
  }
 },
 "nbformat": 4,
 "nbformat_minor": 1
}
