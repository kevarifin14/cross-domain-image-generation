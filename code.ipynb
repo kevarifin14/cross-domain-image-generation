{
 "cells": [
  {
   "cell_type": "code",
   "execution_count": 4,
   "metadata": {},
   "outputs": [
    {
     "name": "stderr",
     "output_type": "stream",
     "text": [
      "Using TensorFlow backend.\n"
     ]
    }
   ],
   "source": [
    "import numpy as np\n",
    "import sklearn as skl\n",
    "from sklearn.preprocessing import OneHotEncoder\n",
    "import scipy.io as scio\n",
    "import scipy\n",
    "import skimage as sk\n",
    "from skimage import color\n",
    "import keras\n",
    "from keras.models import Sequential\n",
    "from keras.layers import Dense, Activation\n",
    "import matplotlib.pyplot as plt\n",
    "import tensorflow as tf\n",
    "from tensorflow.examples.tutorials.mnist import input_data\n",
    "import h5py\n",
    "from keras.layers.convolutional import UpSampling2D\n",
    "from keras.layers.convolutional import Conv2D, MaxPooling2D, Conv2DTranspose\n",
    "from keras.layers.core import Flatten, Reshape, Dropout\n",
    "from keras.layers.normalization import BatchNormalization\n",
    "from keras.optimizers import SGD, Adam\n",
    "from keras.layers.advanced_activations import LeakyReLU\n",
    "from keras.optimizers import Adam\n",
    "%matplotlib inline"
   ]
  },
  {
   "cell_type": "code",
   "execution_count": 5,
   "metadata": {},
   "outputs": [
    {
     "name": "stdout",
     "output_type": "stream",
     "text": [
      "[name: \"/cpu:0\"\n",
      "device_type: \"CPU\"\n",
      "memory_limit: 268435456\n",
      "locality {\n",
      "}\n",
      "incarnation: 18081611405308922888\n",
      ", name: \"/gpu:0\"\n",
      "device_type: \"GPU\"\n",
      "memory_limit: 7680170394\n",
      "locality {\n",
      "  bus_id: 1\n",
      "}\n",
      "incarnation: 8667516444632943526\n",
      "physical_device_desc: \"device: 0, name: GeForce GTX 1070, pci bus id: 0000:01:00.0\"\n",
      "]\n"
     ]
    }
   ],
   "source": [
    "from tensorflow.python.client import device_lib\n",
    "print(device_lib.list_local_devices())"
   ]
  },
  {
   "cell_type": "markdown",
   "metadata": {},
   "source": [
    "# Load Datasets"
   ]
  },
  {
   "cell_type": "markdown",
   "metadata": {},
   "source": [
    "Loads the SVHN and MNIST datasets. We'll be building a binary classifier that classifies an image as part of the MNIST dataset or SVHN dataset. "
   ]
  },
  {
   "cell_type": "code",
   "execution_count": 6,
   "metadata": {},
   "outputs": [
    {
     "name": "stdout",
     "output_type": "stream",
     "text": [
      "Extracting MNIST_data/train-images-idx3-ubyte.gz\n",
      "Extracting MNIST_data/train-labels-idx1-ubyte.gz\n",
      "Extracting MNIST_data/t10k-images-idx3-ubyte.gz\n",
      "Extracting MNIST_data/t10k-labels-idx1-ubyte.gz\n"
     ]
    }
   ],
   "source": [
    "mnist = input_data.read_data_sets(\"MNIST_data/\", one_hot=True)"
   ]
  },
  {
   "cell_type": "code",
   "execution_count": 7,
   "metadata": {
    "collapsed": true
   },
   "outputs": [],
   "source": [
    "mnist_train_X = mnist.train.images\n",
    "mnist_test_X = mnist.test.images\n",
    "mnist_train_y = mnist.train.labels\n",
    "mnist_test_y = mnist.test.labels"
   ]
  },
  {
   "cell_type": "code",
   "execution_count": 8,
   "metadata": {
    "collapsed": true
   },
   "outputs": [],
   "source": [
    "svhn_train = scio.loadmat('svhn_train.mat')\n",
    "svhn_test = scio.loadmat('svhn_test.mat')"
   ]
  },
  {
   "cell_type": "code",
   "execution_count": 9,
   "metadata": {
    "collapsed": true
   },
   "outputs": [],
   "source": [
    "svhn_train_X = svhn_train['X']\n",
    "svhn_train_y = svhn_train['y']\n",
    "svhn_test_X = svhn_test['X']\n",
    "svhn_test_y = svhn_test['y']\n",
    "encoder = OneHotEncoder()\n",
    "svhn_train_y = encoder.fit_transform(svhn_train_y).todense()\n",
    "svhn_test_y = encoder.fit_transform(svhn_test_y).todense()"
   ]
  },
  {
   "cell_type": "markdown",
   "metadata": {},
   "source": [
    "# Preprocessing"
   ]
  },
  {
   "cell_type": "markdown",
   "metadata": {},
   "source": [
    "We resize the SVHN images to 28 x 28"
   ]
  },
  {
   "cell_type": "code",
   "execution_count": 10,
   "metadata": {
    "collapsed": true
   },
   "outputs": [],
   "source": [
    "svhn_train_X = np.array([sk.img_as_float(scipy.misc.imresize(svhn_train_X[:, :, :, i], (28, 28, 3))) for i in range(svhn_train_X.shape[-1])])\n",
    "svhn_test_X = np.array([sk.img_as_float(scipy.misc.imresize(svhn_test_X[:, :, :, i], (28, 28, 3))) for i in range(svhn_test_X.shape[-1])])"
   ]
  },
  {
   "cell_type": "markdown",
   "metadata": {},
   "source": [
    "We resize the MNIST images to 28 x 28"
   ]
  },
  {
   "cell_type": "code",
   "execution_count": 11,
   "metadata": {
    "collapsed": true
   },
   "outputs": [],
   "source": [
    "mnist_train_X = mnist_train_X.reshape(mnist_train_X.shape[0], 28, 28, 1)\n",
    "mnist_test_X = mnist_test_X.reshape(mnist_test_X.shape[0], 28, 28, 1)"
   ]
  },
  {
   "cell_type": "code",
   "execution_count": 12,
   "metadata": {
    "collapsed": true
   },
   "outputs": [],
   "source": [
    "stacked_mnist_train_X = np.stack((mnist_train_X, mnist_train_X, mnist_train_X), axis=3).reshape(mnist_train_X.shape[0], 28, 28, 3)\n",
    "stacked_mnist_test_X = np.stack((mnist_test_X, mnist_test_X, mnist_test_X), axis=3).reshape(mnist_test_X.shape[0], 28, 28, 3)"
   ]
  },
  {
   "cell_type": "markdown",
   "metadata": {
    "collapsed": true
   },
   "source": [
    "# MNIST & SVHN Classifier: f\n",
    "We define a classifier for both MNIST and SVHN for our cross domain mapping."
   ]
  },
  {
   "cell_type": "code",
   "execution_count": 73,
   "metadata": {
    "collapsed": true
   },
   "outputs": [],
   "source": [
    "def f_model(pretrain=True):\n",
    "    f = Sequential([\n",
    "        Conv2D(64, (3, 3), input_shape=(28, 28, 3), padding='same'), \n",
    "#         BatchNormalization(),\n",
    "        MaxPooling2D(pool_size=(2, 2)),\n",
    "        Activation('relu'),\n",
    "        Conv2D(128, (3, 3)), \n",
    "#         BatchNormalization(),\n",
    "        MaxPooling2D(pool_size=(2, 2)),\n",
    "        Activation('relu'),\n",
    "        Conv2D(256, (3, 3)), \n",
    "#         BatchNormalization(),\n",
    "        MaxPooling2D(pool_size=(2, 2)),\n",
    "        Activation('tanh'),\n",
    "        Conv2D(128, (4, 4), padding='same'),\n",
    "#         BatchNormalization(),\n",
    "        MaxPooling2D(pool_size=(2, 2)),\n",
    "        Activation('tanh'),\n",
    "    ])\n",
    "    if pretrain:\n",
    "        f.add(Conv2D(10, (1, 1)))\n",
    "        f.add(Activation('softmax'))\n",
    "        f.add(Flatten())\n",
    "    return f"
   ]
  },
  {
   "cell_type": "markdown",
   "metadata": {},
   "source": [
    "### Initialize f"
   ]
  },
  {
   "cell_type": "code",
   "execution_count": 74,
   "metadata": {},
   "outputs": [],
   "source": [
    "f = f_model()\n",
    "f.compile(loss='categorical_crossentropy', optimizer='adam', metrics=['accuracy'])"
   ]
  },
  {
   "cell_type": "markdown",
   "metadata": {},
   "source": [
    "### Training"
   ]
  },
  {
   "cell_type": "code",
   "execution_count": 75,
   "metadata": {
    "collapsed": true
   },
   "outputs": [],
   "source": [
    "X_train = np.vstack((stacked_mnist_train_X, svhn_train_X))\n",
    "X_test = np.vstack((stacked_mnist_test_X, svhn_test_X))\n",
    "y_train = np.vstack((mnist_train_y, svhn_train_y))\n",
    "y_test = np.vstack((mnist_test_y, svhn_test_y))\n",
    "X_train, y_train = skl.utils.shuffle(X_train, y_train)\n",
    "X_test, y_test = skl.utils.shuffle(X_test, y_test)"
   ]
  },
  {
   "cell_type": "code",
   "execution_count": 77,
   "metadata": {},
   "outputs": [
    {
     "name": "stdout",
     "output_type": "stream",
     "text": [
      "Epoch 1/2\n",
      "128257/128257 [==============================] - 28s - loss: 0.2983 - acc: 0.9096    \n",
      "Epoch 2/2\n",
      "128257/128257 [==============================] - 26s - loss: 0.2012 - acc: 0.9398    \n"
     ]
    },
    {
     "data": {
      "text/plain": [
       "<keras.callbacks.History at 0x7f5a5c57a198>"
      ]
     },
     "execution_count": 77,
     "metadata": {},
     "output_type": "execute_result"
    }
   ],
   "source": [
    "f.fit(X_train, y_train, epochs=2)"
   ]
  },
  {
   "cell_type": "code",
   "execution_count": 78,
   "metadata": {
    "collapsed": true
   },
   "outputs": [],
   "source": [
    "f.save_weights('fweights.h5')"
   ]
  },
  {
   "cell_type": "markdown",
   "metadata": {},
   "source": [
    "### Validation"
   ]
  },
  {
   "cell_type": "code",
   "execution_count": 88,
   "metadata": {},
   "outputs": [
    {
     "name": "stdout",
     "output_type": "stream",
     "text": [
      "35744/36032 [============================>.] - ETA: 0s"
     ]
    },
    {
     "data": {
      "text/plain": [
       "[1.6469843772969492, 0.43675066607460034]"
      ]
     },
     "execution_count": 88,
     "metadata": {},
     "output_type": "execute_result"
    }
   ],
   "source": [
    "f.evaluate(X_test, y_test)"
   ]
  },
  {
   "cell_type": "markdown",
   "metadata": {},
   "source": [
    "# Generator: g\n"
   ]
  },
  {
   "cell_type": "code",
   "execution_count": 82,
   "metadata": {
    "collapsed": true
   },
   "outputs": [],
   "source": [
    "def g_model():\n",
    "    return Sequential([\n",
    "        Conv2DTranspose(512, (4, 4), input_shape=(1, 1, 128), kernel_initializer='truncated_normal'),\n",
    "        BatchNormalization(),\n",
    "        Activation('relu'),\n",
    "        Conv2DTranspose(256, (5, 5), kernel_initializer='truncated_normal'),\n",
    "        BatchNormalization(),\n",
    "        Activation('relu'),\n",
    "        Conv2DTranspose(128, (9, 9), kernel_initializer='truncated_normal'),\n",
    "        BatchNormalization(),\n",
    "        Activation('relu'),\n",
    "        Conv2DTranspose(1, (13, 13), kernel_initializer='truncated_normal'),\n",
    "        Activation('tanh'),\n",
    "    ])\n",
    "\n",
    "def extract_f(f_classifier):\n",
    "    f = Sequential()\n",
    "    for i in range(13):\n",
    "        f.add(f_classifier.get_layer(index=i))\n",
    "    return f\n",
    "\n",
    "def discriminator():\n",
    "    return Sequential([\n",
    "        Conv2D(128, (3, 3), padding='same', input_shape=(28, 28, 1), kernel_initializer='truncated_normal'),\n",
    "        BatchNormalization(),  \n",
    "        Activation('relu'),\n",
    "        Conv2D(256, (3, 3), padding='same', kernel_initializer='glorot_normal'),\n",
    "        BatchNormalization(),  \n",
    "        Activation('relu'),\n",
    "        Conv2D(512, (3, 3), padding='same', kernel_initializer='glorot_normal'),\n",
    "        BatchNormalization(),  \n",
    "        Activation('relu'),\n",
    "        Conv2D(1, (4, 4), padding='valid', kernel_initializer='truncated_normal'),\n",
    "        Activation('relu'),\n",
    "        Flatten(),\n",
    "        Dense(1),\n",
    "        Activation('sigmoid'),\n",
    "    ])\n",
    "    \n",
    "def generator(f, g):\n",
    "    model = Sequential()\n",
    "    model.add(f)\n",
    "    model.add(g)\n",
    "    return model\n",
    "\n",
    "def trainable(net, val):\n",
    "    net.trainable = val\n",
    "    for l in net.layers:\n",
    "        l.trainable = val"
   ]
  },
  {
   "cell_type": "code",
   "execution_count": 83,
   "metadata": {},
   "outputs": [],
   "source": [
    "g = g_model()\n",
    "f_baseline = extract_f(f)\n",
    "f_baseline.trainable = False\n",
    "G = generator(f_baseline, g)\n",
    "G.layers[0].trainable = False\n",
    "D = discriminator()"
   ]
  },
  {
   "cell_type": "code",
   "execution_count": 84,
   "metadata": {},
   "outputs": [
    {
     "name": "stdout",
     "output_type": "stream",
     "text": [
      "_________________________________________________________________\n",
      "Layer (type)                 Output Shape              Param #   \n",
      "=================================================================\n",
      "sequential_52 (Sequential)   (None, 1, 1, 128)         895232    \n",
      "_________________________________________________________________\n",
      "sequential_51 (Sequential)   (None, 28, 28, 1)         7005697   \n",
      "=================================================================\n",
      "Total params: 7,900,929\n",
      "Trainable params: 7,003,905\n",
      "Non-trainable params: 897,024\n",
      "_________________________________________________________________\n"
     ]
    }
   ],
   "source": [
    "G.summary()"
   ]
  },
  {
   "cell_type": "code",
   "execution_count": null,
   "metadata": {
    "collapsed": true
   },
   "outputs": [],
   "source": [
    "G.load_weights('G.h5')\n",
    "D.load_weights('D.h5')"
   ]
  },
  {
   "cell_type": "markdown",
   "metadata": {},
   "source": [
    "# Training G and D"
   ]
  },
  {
   "cell_type": "code",
   "execution_count": 85,
   "metadata": {
    "collapsed": true
   },
   "outputs": [],
   "source": [
    "def train(g, d, mnist_X, svhn_X, epochs=1):\n",
    "    g_d = generator_with_discriminator(g, d)\n",
    "    \n",
    "    for i in range(3):\n",
    "        print('Iteration {}'.format(i))\n",
    "        # Generate MNIST examples for SVHN for training\n",
    "        g_train_data = g.predict(svhn_X)\n",
    "        \n",
    "        # Label as real or fake \n",
    "        real_labels, fake_labels = np.zeros(mnist_X.shape[0]), np.ones(svhn_X.shape[0])\n",
    "        train_data, train_labels = np.vstack((mnist_X, g_train_data)), np.hstack((real_labels, fake_labels))\n",
    "        train_data, train_labels = skl.utils.shuffle(train_data, train_labels)\n",
    "        \n",
    "        # Train discriminator on this real/fake data\n",
    "        print('Training Discriminator')\n",
    "        d.trainable = True\n",
    "        d = discriminator()\n",
    "        d.compile(loss='binary_crossentropy', optimizer='sgd', metrics=['accuracy'])\n",
    "        d.fit(train_data, train_labels, batch_size=100, epochs=1)\n",
    "        \n",
    "        # Train generator based on the outputs of the discriminator\n",
    "        print('Training Generator')\n",
    "        g_d = generator_with_discriminator(g, d)\n",
    "#         d.trainable = False\n",
    "        g_d.layers[1].trainable = False\n",
    "        g_d.compile(loss=loss_function(svhn_X, g), optimizer='adam', metrics=['accuracy'])\n",
    "        g_d.fit(svhn_X, np.zeros(svhn_X.shape[0]), batch_size=100, epochs=2)\n",
    "        \n",
    "        g.save_weights('G.h5')\n",
    "        d.save_weights('D.h5')\n",
    "    return g, d\n",
    "\n",
    "def loss_function(svhn_X, g):\n",
    "    class_true = f.predict(svhn_X)\n",
    "    def loss(y_true, y_pred):\n",
    "        preds = g.predict(svhn_X)\n",
    "        stacked_preds = np.stack((preds, preds, preds), axis=3).reshape(preds.shape[0], 28, 28, 3)\n",
    "        class_pred = f.predict(stacked_preds)\n",
    "        loss_gan = tf.reduce_mean(keras.losses.mean_squared_error(y_true, y_pred))\n",
    "        loss_const = tf.reduce_mean(keras.losses.mean_squared_error(class_true, class_pred))\n",
    "        return 0.5 * loss_gan + 0.3 * loss_const\n",
    "    return loss\n",
    "\n",
    "def generator_with_discriminator(g, d):\n",
    "    model = Sequential()\n",
    "    model.add(g)\n",
    "    model.add(d)\n",
    "    return model"
   ]
  },
  {
   "cell_type": "code",
   "execution_count": 86,
   "metadata": {
    "scrolled": false
   },
   "outputs": [
    {
     "name": "stdout",
     "output_type": "stream",
     "text": [
      "Iteration 0\n",
      "Training Discriminator\n",
      "Epoch 1/1\n",
      "20000/20000 [==============================] - 34s - loss: 0.0098 - acc: 0.9954    \n",
      "Training Generator\n",
      "Epoch 1/2\n",
      "10000/10000 [==============================] - 18s - loss: 0.0331 - acc: 0.9902    \n",
      "Epoch 2/2\n",
      "10000/10000 [==============================] - 16s - loss: 0.0283 - acc: 1.0000    \n",
      "Iteration 1\n",
      "Training Discriminator\n",
      "Epoch 1/1\n",
      "20000/20000 [==============================] - 34s - loss: 0.0078 - acc: 0.9974    \n",
      "Training Generator\n",
      "Epoch 1/2\n",
      "10000/10000 [==============================] - 18s - loss: 0.1069 - acc: 0.8300    \n",
      "Epoch 2/2\n",
      "10000/10000 [==============================] - 16s - loss: 0.0219 - acc: 1.0000    \n",
      "Iteration 2\n",
      "Training Discriminator\n",
      "Epoch 1/1\n",
      "20000/20000 [==============================] - 34s - loss: 8.0446 - acc: 0.4944    \n",
      "Training Generator\n",
      "Epoch 1/2\n",
      "10000/10000 [==============================] - 18s - loss: 0.0048 - acc: 1.0000    \n",
      "Epoch 2/2\n",
      "10000/10000 [==============================] - 17s - loss: 0.0048 - acc: 1.0000    \n"
     ]
    }
   ],
   "source": [
    "# D = discriminator()\n",
    "G, D = train(G, D, mnist_test_X[:10000], svhn_test_X[:10000])"
   ]
  },
  {
   "cell_type": "code",
   "execution_count": 87,
   "metadata": {},
   "outputs": [
    {
     "data": {
      "text/plain": [
       "array([[ 0.07157574],\n",
       "       [ 0.07730179],\n",
       "       [ 0.07636562],\n",
       "       [ 0.07624192],\n",
       "       [ 0.07421757],\n",
       "       [ 0.07597011],\n",
       "       [ 0.07600918],\n",
       "       [ 0.07713066],\n",
       "       [ 0.07583241],\n",
       "       [ 0.07444246]], dtype=float32)"
      ]
     },
     "execution_count": 87,
     "metadata": {},
     "output_type": "execute_result"
    },
    {
     "data": {
      "image/png": "[encoded data removed]",
      "text/plain": [
       "<matplotlib.figure.Figure at 0x7f5a5cc68e80>"
      ]
     },
     "metadata": {},
     "output_type": "display_data"
    },
    {
     "data": {
      "image/png": "[encoded data removed]",
      "text/plain": [
       "<matplotlib.figure.Figure at 0x7f5a50c576a0>"
      ]
     },
     "metadata": {},
     "output_type": "display_data"
    },
    {
     "data": {
      "image/png": "[encoded data removed]",
      "text/plain": [
       "<matplotlib.figure.Figure at 0x7f5a507102b0>"
      ]
     },
     "metadata": {},
     "output_type": "display_data"
    },
    {
     "data": {
      "image/png": "[encoded data removed]",
      "text/plain": [
       "<matplotlib.figure.Figure at 0x7f5a506d92b0>"
      ]
     },
     "metadata": {},
     "output_type": "display_data"
    },
    {
     "data": {
      "image/png": "[encoded data removed]",
      "text/plain": [
       "<matplotlib.figure.Figure at 0x7f5a50b8f1d0>"
      ]
     },
     "metadata": {},
     "output_type": "display_data"
    },
    {
     "data": {
      "image/png": "[encoded data removed]",
      "text/plain": [
       "<matplotlib.figure.Figure at 0x7f5a50ad2f60>"
      ]
     },
     "metadata": {},
     "output_type": "display_data"
    },
    {
     "data": {
      "image/png": "[encoded data removed]",
      "text/plain": [
       "<matplotlib.figure.Figure at 0x7f5a50977278>"
      ]
     },
     "metadata": {},
     "output_type": "display_data"
    },
    {
     "data": {
      "image/png": "[encoded data removed]",
      "text/plain": [
       "<matplotlib.figure.Figure at 0x7f5a50901c50>"
      ]
     },
     "metadata": {},
     "output_type": "display_data"
    },
    {
     "data": {
      "image/png": "[encoded data removed]",
      "text/plain": [
       "<matplotlib.figure.Figure at 0x7f5a50be35c0>"
      ]
     },
     "metadata": {},
     "output_type": "display_data"
    },
    {
     "data": {
      "image/png": "[encoded data removed]",
      "text/plain": [
       "<matplotlib.figure.Figure at 0x7f5a50b2a9e8>"
      ]
     },
     "metadata": {},
     "output_type": "display_data"
    },
    {
     "data": {
      "image/png": "[encoded data removed]",
      "text/plain": [
       "<matplotlib.figure.Figure at 0x7f5a50ae7fd0>"
      ]
     },
     "metadata": {},
     "output_type": "display_data"
    },
    {
     "data": {
      "image/png": "[encoded data removed]",
      "text/plain": [
       "<matplotlib.figure.Figure at 0x7f5a50a91898>"
      ]
     },
     "metadata": {},
     "output_type": "display_data"
    },
    {
     "data": {
      "image/png": "[encoded data removed]",
      "text/plain": [
       "<matplotlib.figure.Figure at 0x7f5a5099f240>"
      ]
     },
     "metadata": {},
     "output_type": "display_data"
    },
    {
     "data": {
      "image/png": "[encoded data removed]",
      "text/plain": [
       "<matplotlib.figure.Figure at 0x7f5a5093b048>"
      ]
     },
     "metadata": {},
     "output_type": "display_data"
    },
    {
     "data": {
      "image/png": "[encoded data removed]",
      "text/plain": [
       "<matplotlib.figure.Figure at 0x7f5a50889a58>"
      ]
     },
     "metadata": {},
     "output_type": "display_data"
    },
    {
     "data": {
      "image/png": "[encoded data removed]",
      "text/plain": [
       "<matplotlib.figure.Figure at 0x7f5a5094d9b0>"
      ]
     },
     "metadata": {},
     "output_type": "display_data"
    },
    {
     "data": {
      "image/png": "[encoded data removed]",
      "text/plain": [
       "<matplotlib.figure.Figure at 0x7f5a507b4ef0>"
      ]
     },
     "metadata": {},
     "output_type": "display_data"
    },
    {
     "data": {
      "image/png": "[encoded data removed]",
      "text/plain": [
       "<matplotlib.figure.Figure at 0x7f5a5077fbe0>"
      ]
     },
     "metadata": {},
     "output_type": "display_data"
    },
    {
     "data": {
      "image/png": "[encoded data removed]",
      "text/plain": [
       "<matplotlib.figure.Figure at 0x7f5a5069deb8>"
      ]
     },
     "metadata": {},
     "output_type": "display_data"
    },
    {
     "data": {
      "image/png": "[encoded data removed]",
      "text/plain": [
       "<matplotlib.figure.Figure at 0x7f5a506748d0>"
      ]
     },
     "metadata": {},
     "output_type": "display_data"
    }
   ],
   "source": [
    "g_images = G.predict(svhn_train_X[:10])\n",
    "for i in range(10):\n",
    "    plt.figure()\n",
    "    plt.imshow(svhn_train_X[i])\n",
    "    plt.figure()\n",
    "    plt.imshow(g_images[i][:, :, 0], cmap='gray')\n",
    "D.predict(g_images)"
   ]
  },
  {
   "cell_type": "code",
   "execution_count": 136,
   "metadata": {},
   "outputs": [
    {
     "data": {
      "text/plain": [
       "[<tf.Variable 'conv2d_253/kernel:0' shape=(3, 3, 1, 128) dtype=float32_ref>,\n",
       " <tf.Variable 'conv2d_253/bias:0' shape=(128,) dtype=float32_ref>,\n",
       " <tf.Variable 'batch_normalization_221/gamma:0' shape=(128,) dtype=float32_ref>,\n",
       " <tf.Variable 'batch_normalization_221/beta:0' shape=(128,) dtype=float32_ref>,\n",
       " <tf.Variable 'conv2d_254/kernel:0' shape=(3, 3, 128, 256) dtype=float32_ref>,\n",
       " <tf.Variable 'conv2d_254/bias:0' shape=(256,) dtype=float32_ref>,\n",
       " <tf.Variable 'batch_normalization_222/gamma:0' shape=(256,) dtype=float32_ref>,\n",
       " <tf.Variable 'batch_normalization_222/beta:0' shape=(256,) dtype=float32_ref>,\n",
       " <tf.Variable 'conv2d_255/kernel:0' shape=(3, 3, 256, 512) dtype=float32_ref>,\n",
       " <tf.Variable 'conv2d_255/bias:0' shape=(512,) dtype=float32_ref>,\n",
       " <tf.Variable 'batch_normalization_223/gamma:0' shape=(512,) dtype=float32_ref>,\n",
       " <tf.Variable 'batch_normalization_223/beta:0' shape=(512,) dtype=float32_ref>,\n",
       " <tf.Variable 'conv2d_256/kernel:0' shape=(4, 4, 512, 1) dtype=float32_ref>,\n",
       " <tf.Variable 'conv2d_256/bias:0' shape=(1,) dtype=float32_ref>,\n",
       " <tf.Variable 'dense_59/kernel:0' shape=(625, 1) dtype=float32_ref>,\n",
       " <tf.Variable 'dense_59/bias:0' shape=(1,) dtype=float32_ref>,\n",
       " <tf.Variable 'batch_normalization_221/moving_mean:0' shape=(128,) dtype=float32_ref>,\n",
       " <tf.Variable 'batch_normalization_221/moving_variance:0' shape=(128,) dtype=float32_ref>,\n",
       " <tf.Variable 'batch_normalization_222/moving_mean:0' shape=(256,) dtype=float32_ref>,\n",
       " <tf.Variable 'batch_normalization_222/moving_variance:0' shape=(256,) dtype=float32_ref>,\n",
       " <tf.Variable 'batch_normalization_223/moving_mean:0' shape=(512,) dtype=float32_ref>,\n",
       " <tf.Variable 'batch_normalization_223/moving_variance:0' shape=(512,) dtype=float32_ref>]"
      ]
     },
     "execution_count": 136,
     "metadata": {},
     "output_type": "execute_result"
    }
   ],
   "source": []
  },
  {
   "cell_type": "code",
   "execution_count": 162,
   "metadata": {},
   "outputs": [
    {
     "name": "stdout",
     "output_type": "stream",
     "text": [
      "_________________________________________________________________\n",
      "Layer (type)                 Output Shape              Param #   \n",
      "=================================================================\n",
      "conv2d_236 (Conv2D)          (None, 28, 28, 64)        1792      \n",
      "_________________________________________________________________\n",
      "batch_normalization_199 (Bat (None, 28, 28, 64)        256       \n",
      "_________________________________________________________________\n",
      "max_pooling2d_13 (MaxPooling (None, 14, 14, 64)        0         \n",
      "_________________________________________________________________\n",
      "activation_319 (Activation)  (None, 14, 14, 64)        0         \n",
      "_________________________________________________________________\n",
      "conv2d_237 (Conv2D)          (None, 12, 12, 128)       73856     \n",
      "_________________________________________________________________\n",
      "batch_normalization_200 (Bat (None, 12, 12, 128)       512       \n",
      "_________________________________________________________________\n",
      "max_pooling2d_14 (MaxPooling (None, 6, 6, 128)         0         \n",
      "_________________________________________________________________\n",
      "activation_320 (Activation)  (None, 6, 6, 128)         0         \n",
      "_________________________________________________________________\n",
      "conv2d_238 (Conv2D)          (None, 4, 4, 256)         295168    \n",
      "_________________________________________________________________\n",
      "batch_normalization_201 (Bat (None, 4, 4, 256)         1024      \n",
      "_________________________________________________________________\n",
      "max_pooling2d_15 (MaxPooling (None, 2, 2, 256)         0         \n",
      "_________________________________________________________________\n",
      "activation_321 (Activation)  (None, 2, 2, 256)         0         \n",
      "_________________________________________________________________\n",
      "conv2d_239 (Conv2D)          (None, 2, 2, 128)         524416    \n",
      "_________________________________________________________________\n",
      "batch_normalization_202 (Bat (None, 2, 2, 128)         512       \n",
      "_________________________________________________________________\n",
      "max_pooling2d_16 (MaxPooling (None, 1, 1, 128)         0         \n",
      "_________________________________________________________________\n",
      "activation_322 (Activation)  (None, 1, 1, 128)         0         \n",
      "_________________________________________________________________\n",
      "conv2d_240 (Conv2D)          (None, 1, 1, 10)          1290      \n",
      "_________________________________________________________________\n",
      "activation_323 (Activation)  (None, 1, 1, 10)          0         \n",
      "_________________________________________________________________\n",
      "flatten_59 (Flatten)         (None, 10)                0         \n",
      "=================================================================\n",
      "Total params: 898,826\n",
      "Trainable params: 897,674\n",
      "Non-trainable params: 1,152\n",
      "_________________________________________________________________\n"
     ]
    }
   ],
   "source": [
    "f.summary()"
   ]
  },
  {
   "cell_type": "code",
   "execution_count": 90,
   "metadata": {},
   "outputs": [
    {
     "name": "stdout",
     "output_type": "stream",
     "text": [
      "_________________________________________________________________\n",
      "Layer (type)                 Output Shape              Param #   \n",
      "=================================================================\n",
      "sequential_52 (Sequential)   (None, 1, 1, 128)         895232    \n",
      "_________________________________________________________________\n",
      "sequential_51 (Sequential)   (None, 28, 28, 1)         7005697   \n",
      "=================================================================\n",
      "Total params: 7,900,929\n",
      "Trainable params: 7,003,905\n",
      "Non-trainable params: 897,024\n",
      "_________________________________________________________________\n"
     ]
    }
   ],
   "source": [
    "G.summary()"
   ]
  },
  {
   "cell_type": "code",
   "execution_count": null,
   "metadata": {
    "collapsed": true
   },
   "outputs": [],
   "source": []
  }
 ],
 "metadata": {
  "anaconda-cloud": {},
  "kernelspec": {
   "display_name": "Python 3",
   "language": "python",
   "name": "python3"
  }
 },
 "nbformat": 4,
 "nbformat_minor": 1
}
