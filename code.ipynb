{
 "cells": [
  {
   "cell_type": "code",
   "execution_count": 1,
   "metadata": {},
   "outputs": [
    {
     "name": "stderr",
     "output_type": "stream",
     "text": [
      "Using TensorFlow backend.\n"
     ]
    }
   ],
   "source": [
    "import numpy as np\n",
    "import sklearn as skl\n",
    "from sklearn.preprocessing import OneHotEncoder\n",
    "import scipy.io as scio\n",
    "import scipy\n",
    "import skimage as sk\n",
    "from skimage import color\n",
    "import keras\n",
    "from keras.models import Sequential\n",
    "from keras.layers import Dense, Activation\n",
    "import matplotlib.pyplot as plt\n",
    "import tensorflow as tf\n",
    "from tensorflow.examples.tutorials.mnist import input_data\n",
    "import h5py\n",
    "from keras.layers.convolutional import UpSampling2D\n",
    "from keras.layers.convolutional import Conv2D, MaxPooling2D, Conv2DTranspose\n",
    "from keras.layers.core import Flatten, Reshape\n",
    "from keras.layers.normalization import BatchNormalization\n",
    "from keras.optimizers import SGD\n",
    "%matplotlib inline"
   ]
  },
  {
   "cell_type": "markdown",
   "metadata": {},
   "source": [
    "# Load Datasets"
   ]
  },
  {
   "cell_type": "markdown",
   "metadata": {},
   "source": [
    "Loads the SVHN and MNIST datasets. We'll be building a binary classifier that classifies an image as part of the MNIST dataset or SVHN dataset. "
   ]
  },
  {
   "cell_type": "code",
   "execution_count": 2,
   "metadata": {},
   "outputs": [
    {
     "name": "stdout",
     "output_type": "stream",
     "text": [
      "Extracting MNIST_data/train-images-idx3-ubyte.gz\n",
      "Extracting MNIST_data/train-labels-idx1-ubyte.gz\n",
      "Extracting MNIST_data/t10k-images-idx3-ubyte.gz\n",
      "Extracting MNIST_data/t10k-labels-idx1-ubyte.gz\n"
     ]
    }
   ],
   "source": [
    "mnist = input_data.read_data_sets(\"MNIST_data/\", one_hot=True)"
   ]
  },
  {
   "cell_type": "code",
   "execution_count": 3,
   "metadata": {
    "collapsed": true
   },
   "outputs": [],
   "source": [
    "mnist_train_X = mnist.train.images\n",
    "mnist_test_X = mnist.test.images\n",
    "mnist_train_y = mnist.train.labels\n",
    "mnist_test_y = mnist.test.labels"
   ]
  },
  {
   "cell_type": "code",
   "execution_count": 4,
   "metadata": {
    "collapsed": true
   },
   "outputs": [],
   "source": [
    "svhn_train = scio.loadmat('svhn_train.mat')\n",
    "svhn_test = scio.loadmat('svhn_test.mat')"
   ]
  },
  {
   "cell_type": "code",
   "execution_count": 5,
   "metadata": {
    "collapsed": true
   },
   "outputs": [],
   "source": [
    "svhn_train_X = svhn_train['X']\n",
    "svhn_train_y = svhn_train['y']\n",
    "svhn_test_X = svhn_test['X']\n",
    "svhn_test_y = svhn_test['y']"
   ]
  },
  {
   "cell_type": "markdown",
   "metadata": {},
   "source": [
    "# Preprocessing"
   ]
  },
  {
   "cell_type": "markdown",
   "metadata": {},
   "source": [
    "SVHN images are in color and also larger than MNIST. For our classifier, we will grayscale the images and also resize them to be the same shape as MNIST."
   ]
  },
  {
   "cell_type": "code",
   "execution_count": 6,
   "metadata": {
    "collapsed": true
   },
   "outputs": [],
   "source": [
    "gray_svhn_train = np.array([color.rgb2gray(svhn_train_X[:, :, :, i]) for i in range(svhn_train_X.shape[3])])\n",
    "gray_svhn_test = np.array([color.rgb2gray(svhn_test_X[:, :, :, i]) for i in range(svhn_test_X.shape[3])])"
   ]
  },
  {
   "cell_type": "markdown",
   "metadata": {},
   "source": [
    "We resize the images to 28 x 28"
   ]
  },
  {
   "cell_type": "code",
   "execution_count": 7,
   "metadata": {
    "collapsed": true
   },
   "outputs": [],
   "source": [
    "resized_gray_svhn_train = np.array([sk.img_as_float(scipy.misc.imresize(gray_svhn_train[i], (28, 28))) for i in range(gray_svhn_train.shape[0])])\n",
    "resized_gray_svhn_test = np.array([sk.img_as_float(scipy.misc.imresize(gray_svhn_test[i], (28, 28))) for i in range(gray_svhn_test.shape[0])])"
   ]
  },
  {
   "cell_type": "markdown",
   "metadata": {},
   "source": [
    "We now vectorize the SVHN dataset. "
   ]
  },
  {
   "cell_type": "code",
   "execution_count": 8,
   "metadata": {
    "collapsed": true
   },
   "outputs": [],
   "source": [
    "svhn_train_X = resized_gray_svhn_train.reshape((resized_gray_svhn_train.shape[0], mnist_train_X.shape[1]))\n",
    "svhn_test_X = resized_gray_svhn_test.reshape((resized_gray_svhn_test.shape[0], mnist_test_X.shape[1]))"
   ]
  },
  {
   "cell_type": "markdown",
   "metadata": {},
   "source": [
    "We define the label for MNIST as 0 and the label for SVHN as 1."
   ]
  },
  {
   "cell_type": "code",
   "execution_count": 9,
   "metadata": {
    "collapsed": true
   },
   "outputs": [],
   "source": [
    "mnist_train_labels = np.zeros(mnist_train_X.shape[0])\n",
    "mnist_test_labels = np.zeros(mnist_test_X.shape[0])\n",
    "svhn_train_labels = np.ones(svhn_train_X.shape[0])\n",
    "svhn_test_labels = np.ones(svhn_test_X.shape[0])"
   ]
  },
  {
   "cell_type": "markdown",
   "metadata": {},
   "source": [
    "We now prepare our data to be passed into our model. "
   ]
  },
  {
   "cell_type": "code",
   "execution_count": 53,
   "metadata": {},
   "outputs": [
    {
     "ename": "ValueError",
     "evalue": "all the input array dimensions except for the concatenation axis must match exactly",
     "output_type": "error",
     "traceback": [
      "\u001b[0;31m---------------------------------------------------------------------------\u001b[0m",
      "\u001b[0;31mValueError\u001b[0m                                Traceback (most recent call last)",
      "\u001b[0;32m<ipython-input-53-815d7c32069a>\u001b[0m in \u001b[0;36m<module>\u001b[0;34m()\u001b[0m\n\u001b[0;32m----> 1\u001b[0;31m \u001b[0mtrain_data\u001b[0m \u001b[0;34m=\u001b[0m \u001b[0mnp\u001b[0m\u001b[0;34m.\u001b[0m\u001b[0mvstack\u001b[0m\u001b[0;34m(\u001b[0m\u001b[0;34m(\u001b[0m\u001b[0mmnist_train_X\u001b[0m\u001b[0;34m,\u001b[0m \u001b[0msvhn_train_X\u001b[0m\u001b[0;34m)\u001b[0m\u001b[0;34m)\u001b[0m\u001b[0;34m\u001b[0m\u001b[0m\n\u001b[0m\u001b[1;32m      2\u001b[0m \u001b[0mtrain_labels\u001b[0m \u001b[0;34m=\u001b[0m \u001b[0mnp\u001b[0m\u001b[0;34m.\u001b[0m\u001b[0mhstack\u001b[0m\u001b[0;34m(\u001b[0m\u001b[0;34m(\u001b[0m\u001b[0mmnist_train_y\u001b[0m\u001b[0;34m,\u001b[0m \u001b[0msvhn_train_y\u001b[0m\u001b[0;34m)\u001b[0m\u001b[0;34m)\u001b[0m\u001b[0;34m\u001b[0m\u001b[0m\n\u001b[1;32m      3\u001b[0m \u001b[0mtest_data\u001b[0m \u001b[0;34m=\u001b[0m \u001b[0mnp\u001b[0m\u001b[0;34m.\u001b[0m\u001b[0mvstack\u001b[0m\u001b[0;34m(\u001b[0m\u001b[0;34m(\u001b[0m\u001b[0mmnist_test_X\u001b[0m\u001b[0;34m,\u001b[0m \u001b[0msvhn_test_X\u001b[0m\u001b[0;34m)\u001b[0m\u001b[0;34m)\u001b[0m\u001b[0;34m\u001b[0m\u001b[0m\n\u001b[1;32m      4\u001b[0m \u001b[0mtest_labels\u001b[0m \u001b[0;34m=\u001b[0m \u001b[0mnp\u001b[0m\u001b[0;34m.\u001b[0m\u001b[0mhstack\u001b[0m\u001b[0;34m(\u001b[0m\u001b[0;34m(\u001b[0m\u001b[0mmnist_test_y\u001b[0m\u001b[0;34m,\u001b[0m \u001b[0msvhn_test_y\u001b[0m\u001b[0;34m)\u001b[0m\u001b[0;34m)\u001b[0m\u001b[0;34m\u001b[0m\u001b[0m\n",
      "\u001b[0;32m~/.anaconda2/envs/tensorflow/lib/python3.5/site-packages/numpy/core/shape_base.py\u001b[0m in \u001b[0;36mvstack\u001b[0;34m(tup)\u001b[0m\n\u001b[1;32m    235\u001b[0m \u001b[0;34m\u001b[0m\u001b[0m\n\u001b[1;32m    236\u001b[0m     \"\"\"\n\u001b[0;32m--> 237\u001b[0;31m     \u001b[0;32mreturn\u001b[0m \u001b[0m_nx\u001b[0m\u001b[0;34m.\u001b[0m\u001b[0mconcatenate\u001b[0m\u001b[0;34m(\u001b[0m\u001b[0;34m[\u001b[0m\u001b[0matleast_2d\u001b[0m\u001b[0;34m(\u001b[0m\u001b[0m_m\u001b[0m\u001b[0;34m)\u001b[0m \u001b[0;32mfor\u001b[0m \u001b[0m_m\u001b[0m \u001b[0;32min\u001b[0m \u001b[0mtup\u001b[0m\u001b[0;34m]\u001b[0m\u001b[0;34m,\u001b[0m \u001b[0;36m0\u001b[0m\u001b[0;34m)\u001b[0m\u001b[0;34m\u001b[0m\u001b[0m\n\u001b[0m\u001b[1;32m    238\u001b[0m \u001b[0;34m\u001b[0m\u001b[0m\n\u001b[1;32m    239\u001b[0m \u001b[0;32mdef\u001b[0m \u001b[0mhstack\u001b[0m\u001b[0;34m(\u001b[0m\u001b[0mtup\u001b[0m\u001b[0;34m)\u001b[0m\u001b[0;34m:\u001b[0m\u001b[0;34m\u001b[0m\u001b[0m\n",
      "\u001b[0;31mValueError\u001b[0m: all the input array dimensions except for the concatenation axis must match exactly"
     ]
    }
   ],
   "source": [
    "train_data = np.vstack((mnist_train_X, svhn_train_X))\n",
    "train_labels = np.hstack((mnist_train_y, svhn_train_y))\n",
    "test_data = np.vstack((mnist_test_X, svhn_test_X))\n",
    "test_labels = np.hstack((mnist_test_y, svhn_test_y))"
   ]
  },
  {
   "cell_type": "code",
   "execution_count": 12,
   "metadata": {},
   "outputs": [
    {
     "ename": "NameError",
     "evalue": "name 'train_labels' is not defined",
     "output_type": "error",
     "traceback": [
      "\u001b[0;31m---------------------------------------------------------------------------\u001b[0m",
      "\u001b[0;31mNameError\u001b[0m                                 Traceback (most recent call last)",
      "\u001b[0;32m<ipython-input-12-b6111b824927>\u001b[0m in \u001b[0;36m<module>\u001b[0;34m()\u001b[0m\n\u001b[0;32m----> 1\u001b[0;31m \u001b[0mtrain_data\u001b[0m\u001b[0;34m,\u001b[0m \u001b[0mtrain_labels\u001b[0m \u001b[0;34m=\u001b[0m \u001b[0mskl\u001b[0m\u001b[0;34m.\u001b[0m\u001b[0mutils\u001b[0m\u001b[0;34m.\u001b[0m\u001b[0mshuffle\u001b[0m\u001b[0;34m(\u001b[0m\u001b[0mtrain_data\u001b[0m\u001b[0;34m,\u001b[0m \u001b[0mtrain_labels\u001b[0m\u001b[0;34m)\u001b[0m\u001b[0;34m\u001b[0m\u001b[0m\n\u001b[0m\u001b[1;32m      2\u001b[0m \u001b[0mtest_data\u001b[0m\u001b[0;34m,\u001b[0m \u001b[0mtest_labels\u001b[0m \u001b[0;34m=\u001b[0m \u001b[0mskl\u001b[0m\u001b[0;34m.\u001b[0m\u001b[0mutils\u001b[0m\u001b[0;34m.\u001b[0m\u001b[0mshuffle\u001b[0m\u001b[0;34m(\u001b[0m\u001b[0mtest_data\u001b[0m\u001b[0;34m,\u001b[0m \u001b[0mtest_labels\u001b[0m\u001b[0;34m)\u001b[0m\u001b[0;34m\u001b[0m\u001b[0m\n",
      "\u001b[0;31mNameError\u001b[0m: name 'train_labels' is not defined"
     ]
    }
   ],
   "source": [
    "train_data, train_labels = skl.utils.shuffle(train_data, train_labels)\n",
    "test_data, test_labels = skl.utils.shuffle(test_data, test_labels)"
   ]
  },
  {
   "cell_type": "markdown",
   "metadata": {},
   "source": [
    "# Model"
   ]
  },
  {
   "cell_type": "code",
   "execution_count": null,
   "metadata": {
    "collapsed": true
   },
   "outputs": [],
   "source": [
    "model = Sequential([\n",
    "        Dense(units=64, input_dim=train_data.shape[1], activation='relu'),\n",
    "        Dense(units=1, activation='sigmoid'),\n",
    "    ])\n",
    "model.compile(loss='binary_crossentropy', optimizer='adam', metrics=['accuracy'])"
   ]
  },
  {
   "cell_type": "markdown",
   "metadata": {},
   "source": [
    "# Training"
   ]
  },
  {
   "cell_type": "code",
   "execution_count": null,
   "metadata": {
    "collapsed": true
   },
   "outputs": [],
   "source": [
    "model.fit(train_data, train_labels, epochs=2, batch_size=32)"
   ]
  },
  {
   "cell_type": "markdown",
   "metadata": {},
   "source": [
    "# Testing"
   ]
  },
  {
   "cell_type": "code",
   "execution_count": null,
   "metadata": {
    "collapsed": true
   },
   "outputs": [],
   "source": [
    "loss_and_metrics = model.evaluate(test_data, test_labels, batch_size=20)"
   ]
  },
  {
   "cell_type": "code",
   "execution_count": null,
   "metadata": {
    "collapsed": true
   },
   "outputs": [],
   "source": [
    "loss_and_metrics"
   ]
  },
  {
   "cell_type": "code",
   "execution_count": null,
   "metadata": {
    "collapsed": true
   },
   "outputs": [],
   "source": [
    "def view_sample(img_vector):\n",
    "    plt.figure()\n",
    "    plt.imshow(img_vector.reshape((28, 28)), cmap='gray')\n",
    "    \n",
    "def get_sample_prediction(vectors, plot=True):\n",
    "    if plot:\n",
    "        [view_sample(vectors[i]) for i in range(vectors.shape[0])]\n",
    "    return np.round(model.predict(vectors))\n",
    "    \n",
    "get_sample_prediction(test_data[9:16])"
   ]
  },
  {
   "cell_type": "code",
   "execution_count": null,
   "metadata": {
    "collapsed": true
   },
   "outputs": [],
   "source": [
    "model.predict(test_data[0:3])"
   ]
  },
  {
   "cell_type": "markdown",
   "metadata": {},
   "source": [
    "# Simple GAN"
   ]
  },
  {
   "cell_type": "code",
   "execution_count": null,
   "metadata": {
    "collapsed": true
   },
   "outputs": [],
   "source": [
    "\n"
   ]
  },
  {
   "cell_type": "code",
   "execution_count": null,
   "metadata": {
    "collapsed": true
   },
   "outputs": [],
   "source": [
    "def initialize_generator():\n",
    "    model = Sequential()\n",
    "    model.add(Dense(input_dim=100, output_dim=1024))\n",
    "    model.add(Activation('tanh'))\n",
    "    model.add(Dense(128*7*7))\n",
    "    model.add(BatchNormalization())\n",
    "    model.add(Activation('tanh'))\n",
    "    model.add(Reshape((7, 7, 128), input_shape=(128*7*7,)))\n",
    "    model.add(UpSampling2D(size=(2, 2)))\n",
    "    model.add(Conv2D(64, (5, 5), padding='same'))\n",
    "    model.add(Activation('tanh'))\n",
    "    model.add(UpSampling2D(size=(2, 2)))\n",
    "    model.add(Conv2D(1, (5, 5), padding='same'))\n",
    "    model.add(Activation('tanh'))\n",
    "    return model\n",
    "#     return Sequential([\n",
    "#         Dense(units=500, input_dim=100, activation='relu', kernel_regularizer=L1L2(1e-5, 1e-5)),\n",
    "#         Dense(units=500, activation='relu', kernel_regularizer=L1L2(1e-5, 1e-5)),\n",
    "#         Dense(units=mnist_train.shape[1], activation='sigmoid', kernel_regularizer=L1L2(1e-5, 1e-5)),\n",
    "#     ])\n",
    "\n",
    "def initialize_discriminator():\n",
    "    model = Sequential()\n",
    "    model.add(\n",
    "            Conv2D(64, (5, 5),\n",
    "            padding='same',\n",
    "            input_shape=(28, 28, 1))\n",
    "            )\n",
    "    model.add(Activation('tanh'))\n",
    "    model.add(MaxPooling2D(pool_size=(2, 2)))\n",
    "    model.add(Conv2D(128, (5, 5)))\n",
    "    model.add(Activation('tanh'))\n",
    "    model.add(MaxPooling2D(pool_size=(2, 2)))\n",
    "    model.add(Flatten())\n",
    "    model.add(Dense(1024))\n",
    "    model.add(Activation('tanh'))\n",
    "    model.add(Dense(1))\n",
    "    model.add(Activation('sigmoid'))\n",
    "    return model\n",
    "#     return Sequential([\n",
    "#         Dense(units=500, input_dim=mnist_train.shape[1], activation='relu', kernel_regularizer=L1L2(1e-5, 1e-5)),\n",
    "#         Dense(units=500, activation='relu', kernel_regularizer=L1L2(1e-5, 1e-5)),\n",
    "#         Dense(units=1, activation='sigmoid', kernel_regularizer=L1L2(1e-5, 1e-5)),\n",
    "#     ])\n",
    "\n",
    "def generator_with_discriminator(g, d):\n",
    "    model = Sequential()\n",
    "    model.add(g)\n",
    "    model.add(d)\n",
    "    return model"
   ]
  },
  {
   "cell_type": "markdown",
   "metadata": {},
   "source": [
    "Let 0 define real, let 1 define fake (generated)"
   ]
  },
  {
   "cell_type": "code",
   "execution_count": null,
   "metadata": {
    "collapsed": true
   },
   "outputs": [],
   "source": [
    "def train(g, d, real_data, epochs=1):\n",
    "    g_d = generator_with_discriminator(g, d)\n",
    "    g_d.compile(loss='binary_crossentropy', optimizer='adam', metrics=['accuracy'])\n",
    "    \n",
    "    for i in range(2):\n",
    "        g_inputs = np.random.normal(size=(real_data.shape[0], 100))\n",
    "        g_train_data = g.predict(g_inputs)\n",
    "        real_labels, fake_labels = np.zeros(real_data.shape[0]), np.ones(real_data.shape[0])\n",
    "        train_data, train_labels = np.vstack((real_data, g_train_data)), np.hstack((real_labels, fake_labels))\n",
    "        train_data, train_labels = skl.utils.shuffle(train_data, train_labels)\n",
    "        d.trainable = True\n",
    "        d.compile(loss='binary_crossentropy', optimizer='adam', metrics=['accuracy'])\n",
    "        d.fit(train_data, train_labels, batch_size=32, epochs=2)\n",
    "        d.trainable = False\n",
    "        g_d.fit(g_inputs, real_labels, batch_size=128, epochs=3)\n",
    "    return g, d"
   ]
  },
  {
   "cell_type": "code",
   "execution_count": null,
   "metadata": {
    "collapsed": true
   },
   "outputs": [],
   "source": [
    "g, d = initialize_generator(), initialize_discriminator()\n",
    "g, d = train(g, d, mnist_train[:1000].reshape((1000, 28, 28, 1)))"
   ]
  },
  {
   "cell_type": "code",
   "execution_count": null,
   "metadata": {
    "collapsed": true
   },
   "outputs": [],
   "source": [
    "g_images = g.predict(np.random.normal(size=(100, 100)))\n",
    "print(d.predict_classes(g_images))\n",
    "for i in range(10): \n",
    "    plt.figure()\n",
    "    plt.imshow(g_images[:, :, :, 0][i], cmap='gray')"
   ]
  },
  {
   "cell_type": "markdown",
   "metadata": {
    "collapsed": true
   },
   "source": [
    "# MNIST & SVHN Classifier: f\n",
    "We define a classifier for both MNIST and SVHN for our cross domain mapping."
   ]
  },
  {
   "cell_type": "code",
   "execution_count": 10,
   "metadata": {
    "collapsed": true
   },
   "outputs": [],
   "source": [
    "def f_model(pretrain=True):\n",
    "    f = Sequential([\n",
    "        Conv2D(64, (3, 3), input_shape=(28, 28, 1), padding='same'), \n",
    "        Activation('relu'),\n",
    "        MaxPooling2D(pool_size=(2, 2)),\n",
    "        Conv2D(128, (3, 3)), \n",
    "        Activation('relu'),\n",
    "        MaxPooling2D(pool_size=(2, 2)),\n",
    "        Conv2D(256, (3, 3)), \n",
    "        Activation('relu'),\n",
    "        MaxPooling2D(pool_size=(2, 2)),\n",
    "        Conv2D(128, (4, 4), padding='same'),\n",
    "        Activation('relu'),\n",
    "        MaxPooling2D(pool_size=(2, 2)),\n",
    "    ])\n",
    "    if pretrain:\n",
    "        f.add(Conv2D(10, (1, 1)))\n",
    "        f.add(Activation('softmax'))\n",
    "        f.add(Flatten())\n",
    "    return f"
   ]
  },
  {
   "cell_type": "markdown",
   "metadata": {},
   "source": [
    "### Initialize f"
   ]
  },
  {
   "cell_type": "code",
   "execution_count": 11,
   "metadata": {
    "collapsed": true
   },
   "outputs": [],
   "source": [
    "f = f_model()\n",
    "f.compile(loss='categorical_crossentropy', optimizer='adam', metrics=['accuracy'])"
   ]
  },
  {
   "cell_type": "markdown",
   "metadata": {},
   "source": [
    "### Training"
   ]
  },
  {
   "cell_type": "code",
   "execution_count": 12,
   "metadata": {
    "collapsed": true
   },
   "outputs": [],
   "source": [
    "encoder = OneHotEncoder()\n",
    "svhn_train_y = encoder.fit_transform(svhn_train_y).todense()\n",
    "svhn_test_y = encoder.fit_transform(svhn_test_y).todense()"
   ]
  },
  {
   "cell_type": "code",
   "execution_count": 13,
   "metadata": {},
   "outputs": [
    {
     "data": {
      "text/plain": [
       "(73257, 10)"
      ]
     },
     "execution_count": 13,
     "metadata": {},
     "output_type": "execute_result"
    }
   ],
   "source": [
    "svhn_train_y.shape"
   ]
  },
  {
   "cell_type": "code",
   "execution_count": 14,
   "metadata": {
    "collapsed": true
   },
   "outputs": [],
   "source": [
    "X_train = np.vstack((mnist_train_X, svhn_train_X))\n",
    "X_train = X_train.reshape(X_train.shape[0], 28, 28, 1)\n",
    "X_test = np.vstack((mnist_test_X, svhn_test_X))\n",
    "X_test = X_test.reshape(X_test.shape[0], 28, 28, 1)\n",
    "y_train = np.vstack((mnist_train_y, svhn_train_y))\n",
    "y_test = np.vstack((mnist_test_y, svhn_test_y))\n",
    "X_train, y_train = skl.utils.shuffle(X_train, y_train)\n",
    "X_test, y_test = skl.utils.shuffle(X_test, y_test)"
   ]
  },
  {
   "cell_type": "code",
   "execution_count": null,
   "metadata": {
    "collapsed": true
   },
   "outputs": [],
   "source": [
    "f.fit(X_train, y_train, epochs=2)"
   ]
  },
  {
   "cell_type": "code",
   "execution_count": 15,
   "metadata": {
    "collapsed": true
   },
   "outputs": [],
   "source": [
    "f.load_weights('my_model_weights.h5')"
   ]
  },
  {
   "cell_type": "markdown",
   "metadata": {},
   "source": [
    "### Validation"
   ]
  },
  {
   "cell_type": "code",
   "execution_count": 16,
   "metadata": {},
   "outputs": [
    {
     "name": "stdout",
     "output_type": "stream",
     "text": [
      "36000/36032 [============================>.] - ETA: 0s[0.23255370937239836, 0.93394760213143868]\n"
     ]
    }
   ],
   "source": [
    "print(f.evaluate(X_test, y_test))"
   ]
  },
  {
   "cell_type": "markdown",
   "metadata": {},
   "source": [
    "# Generator: g\n"
   ]
  },
  {
   "cell_type": "code",
   "execution_count": 17,
   "metadata": {
    "collapsed": true
   },
   "outputs": [],
   "source": [
    "def g_model():\n",
    "    return Sequential([\n",
    "        Conv2DTranspose(512, (8, 8), input_shape=(1, 1, 128)),\n",
    "        Activation('relu'),\n",
    "        BatchNormalization(),\n",
    "        Conv2DTranspose(256, (8, 8)),\n",
    "        Activation('relu'),\n",
    "        BatchNormalization(),\n",
    "        Conv2DTranspose(128, (8, 8)),\n",
    "        Activation('relu'),\n",
    "        BatchNormalization(),\n",
    "        Conv2DTranspose(1, (7, 7)),\n",
    "        Activation('tanh'),\n",
    "    ])\n",
    "\n",
    "def extract_f(f_classifier):\n",
    "    f = Sequential()\n",
    "    for i in range(13):\n",
    "        f.add(f_classifier.get_layer(index=i))\n",
    "    return f\n",
    "\n",
    "def discriminator():\n",
    "    return Sequential([\n",
    "        Conv2D(128, (3, 3), padding='same', input_shape=(28, 28, 1)),\n",
    "        Activation('relu'),\n",
    "        BatchNormalization(),\n",
    "        Conv2D(256, (3, 3), padding='same'),\n",
    "        Activation('relu'),\n",
    "        BatchNormalization(),\n",
    "        Conv2D(512, (3, 3), padding='same'),\n",
    "        Activation('relu'),\n",
    "        BatchNormalization(),\n",
    "        Conv2D(1, (4, 4), padding='valid'),\n",
    "        Activation('relu'),\n",
    "        Flatten(),\n",
    "        Dense(1),\n",
    "        Activation('sigmoid'),\n",
    "    ])\n",
    "    \n",
    "def generator(f, g):\n",
    "    model = Sequential()\n",
    "    model.add(f)\n",
    "    model.add(g)\n",
    "    return model"
   ]
  },
  {
   "cell_type": "code",
   "execution_count": 18,
   "metadata": {
    "collapsed": true
   },
   "outputs": [],
   "source": [
    "g = g_model()\n",
    "f.trainable = False\n",
    "f_baseline = extract_f(f)\n",
    "G = generator(f_baseline, g)\n",
    "D = discriminator()"
   ]
  },
  {
   "cell_type": "code",
   "execution_count": null,
   "metadata": {
    "collapsed": true
   },
   "outputs": [],
   "source": [
    "G.load_weights('G.h5')\n",
    "D.load_weights('D.h5')"
   ]
  },
  {
   "cell_type": "markdown",
   "metadata": {},
   "source": [
    "# Training G and D"
   ]
  },
  {
   "cell_type": "code",
   "execution_count": 19,
   "metadata": {
    "collapsed": true
   },
   "outputs": [],
   "source": [
    "svhn_train_X = svhn_train_X.reshape(svhn_train_X.shape[0], 28, 28, 1)\n",
    "svhn_test_X = svhn_test_X.reshape(svhn_test_X.shape[0], 28, 28, 1)\n",
    "mnist_train_X = mnist_train_X.reshape(mnist_train_X.shape[0], 28, 28, 1)\n",
    "mnist_test_X = mnist_test_X.reshape(mnist_test_X.shape[0], 28, 28, 1)"
   ]
  },
  {
   "cell_type": "code",
   "execution_count": 26,
   "metadata": {
    "collapsed": true
   },
   "outputs": [],
   "source": [
    "def train(g, d, mnist_X, svhn_X, epochs=1):\n",
    "    g_d = generator_with_discriminator(g, d)\n",
    "    g_d.compile(loss=loss_function(svhn_X, g), optimizer='adam', metrics=['accuracy'])\n",
    "    \n",
    "    for i in range(2000):\n",
    "        # Generate MNIST examples for SVHN for training\n",
    "        g_train_data = g.predict(svhn_X)\n",
    "        \n",
    "        # Label as real or fake \n",
    "        real_labels, fake_labels = np.zeros(mnist_X.shape[0]), np.ones(svhn_X.shape[0])\n",
    "        train_data, train_labels = np.vstack((mnist_X, g_train_data)), np.hstack((real_labels, fake_labels))\n",
    "        train_data, train_labels = skl.utils.shuffle(train_data, train_labels)\n",
    "        \n",
    "        # Train discriminator on this real/fake data\n",
    "        print('Training Discriminator')\n",
    "        d.trainable = True\n",
    "        d.compile(loss='binary_crossentropy', optimizer='adam', metrics=['accuracy'])\n",
    "        d.fit(train_data, train_labels, batch_size=32, epochs=2)\n",
    "        \n",
    "        # Train generator based on the outputs of the discriminator\n",
    "        print('Training Generator')\n",
    "        d.trainable = False\n",
    "        g_d.fit(svhn_X, np.zeros(svhn_X.shape[0]), batch_size=128, epochs=2)\n",
    "    g.save_weights('G.h5')\n",
    "    d.save_weights('D.h5')\n",
    "    return g, d\n",
    "\n",
    "def loss_function(svhn_X, g):\n",
    "    class_true = f.predict(svhn_X) \n",
    "    def loss(y_true, y_pred):\n",
    "        class_pred = f.predict(g.predict(svhn_X))\n",
    "        loss_gan = tf.reduce_mean(keras.losses.mean_squared_error(y_true, y_pred))\n",
    "        loss_const = tf.reduce_mean(keras.losses.mean_squared_error(class_true, class_pred))\n",
    "        return loss_gan + loss_const\n",
    "    return loss\n",
    "\n",
    "def generator_with_discriminator(g, d):\n",
    "    model = Sequential()\n",
    "    model.add(g)\n",
    "    model.add(d)\n",
    "    return model"
   ]
  },
  {
   "cell_type": "code",
   "execution_count": null,
   "metadata": {
    "scrolled": false
   },
   "outputs": [
    {
     "name": "stdout",
     "output_type": "stream",
     "text": [
      "Training Discriminator\n",
      "Epoch 1/2\n",
      " 2656/20000 [==>...........................] - ETA: 1703s - loss: 7.7435 - acc: 0.5196"
     ]
    }
   ],
   "source": [
    "G, D = train(G, D, mnist_test_X[:10000], svhn_test_X[:10000])"
   ]
  },
  {
   "cell_type": "code",
   "execution_count": 25,
   "metadata": {},
   "outputs": [
    {
     "data": {
      "image/png": "[encoded data removed]",
      "text/plain": [
       "<matplotlib.figure.Figure at 0x7f3ed8b1ab00>"
      ]
     },
     "metadata": {},
     "output_type": "display_data"
    },
    {
     "data": {
      "image/png": "[encoded data removed]",
      "text/plain": [
       "<matplotlib.figure.Figure at 0x7f3ef1adbbe0>"
      ]
     },
     "metadata": {},
     "output_type": "display_data"
    },
    {
     "data": {
      "image/png": "[encoded data removed]",
      "text/plain": [
       "<matplotlib.figure.Figure at 0x7f3ed8ace0b8>"
      ]
     },
     "metadata": {},
     "output_type": "display_data"
    },
    {
     "data": {
      "image/png": "[encoded data removed]",
      "text/plain": [
       "<matplotlib.figure.Figure at 0x7f3ed8a885c0>"
      ]
     },
     "metadata": {},
     "output_type": "display_data"
    },
    {
     "data": {
      "image/png": "[encoded data removed]",
      "text/plain": [
       "<matplotlib.figure.Figure at 0x7f3ed8a65b00>"
      ]
     },
     "metadata": {},
     "output_type": "display_data"
    },
    {
     "data": {
      "image/png": "[encoded data removed]",
      "text/plain": [
       "<matplotlib.figure.Figure at 0x7f3ed8a30f28>"
      ]
     },
     "metadata": {},
     "output_type": "display_data"
    },
    {
     "data": {
      "image/png": "[encoded data removed]",
      "text/plain": [
       "<matplotlib.figure.Figure at 0x7f3ed89507f0>"
      ]
     },
     "metadata": {},
     "output_type": "display_data"
    },
    {
     "data": {
      "image/png": "[encoded data removed]",
      "text/plain": [
       "<matplotlib.figure.Figure at 0x7f3ed8923400>"
      ]
     },
     "metadata": {},
     "output_type": "display_data"
    },
    {
     "data": {
      "image/png": "[encoded data removed]",
      "text/plain": [
       "<matplotlib.figure.Figure at 0x7f3ed8888208>"
      ]
     },
     "metadata": {},
     "output_type": "display_data"
    },
    {
     "data": {
      "image/png": "[encoded data removed]",
      "text/plain": [
       "<matplotlib.figure.Figure at 0x7f3ed8809d68>"
      ]
     },
     "metadata": {},
     "output_type": "display_data"
    },
    {
     "data": {
      "image/png": "[encoded data removed]",
      "text/plain": [
       "<matplotlib.figure.Figure at 0x7f3ed87d8390>"
      ]
     },
     "metadata": {},
     "output_type": "display_data"
    },
    {
     "data": {
      "image/png": "[encoded data removed]",
      "text/plain": [
       "<matplotlib.figure.Figure at 0x7f3e6d608c18>"
      ]
     },
     "metadata": {},
     "output_type": "display_data"
    },
    {
     "data": {
      "image/png": "[encoded data removed]",
      "text/plain": [
       "<matplotlib.figure.Figure at 0x7f3e6d55a5c0>"
      ]
     },
     "metadata": {},
     "output_type": "display_data"
    },
    {
     "data": {
      "image/png": "[encoded data removed]",
      "text/plain": [
       "<matplotlib.figure.Figure at 0x7f3e6d5393c8>"
      ]
     },
     "metadata": {},
     "output_type": "display_data"
    },
    {
     "data": {
      "image/png": "[encoded data removed]",
      "text/plain": [
       "<matplotlib.figure.Figure at 0x7f3e6d508dd8>"
      ]
     },
     "metadata": {},
     "output_type": "display_data"
    },
    {
     "data": {
      "image/png": "[encoded data removed]",
      "text/plain": [
       "<matplotlib.figure.Figure at 0x7f3e6d549828>"
      ]
     },
     "metadata": {},
     "output_type": "display_data"
    },
    {
     "data": {
      "image/png": "[encoded data removed]",
      "text/plain": [
       "<matplotlib.figure.Figure at 0x7f3e6d4372b0>"
      ]
     },
     "metadata": {},
     "output_type": "display_data"
    },
    {
     "data": {
      "image/png": "[encoded data removed]",
      "text/plain": [
       "<matplotlib.figure.Figure at 0x7f3e6d3fde80>"
      ]
     },
     "metadata": {},
     "output_type": "display_data"
    },
    {
     "data": {
      "image/png": "[encoded data removed]",
      "text/plain": [
       "<matplotlib.figure.Figure at 0x7f3e6d363198>"
      ]
     },
     "metadata": {},
     "output_type": "display_data"
    },
    {
     "data": {
      "image/png": "[encoded data removed]",
      "text/plain": [
       "<matplotlib.figure.Figure at 0x7f3e6d332b70>"
      ]
     },
     "metadata": {},
     "output_type": "display_data"
    }
   ],
   "source": [
    "\n",
    "g_images = G.predict(svhn_train_X[10:40])\n",
    "for i in range(10):\n",
    "    plt.figure()\n",
    "    plt.imshow(svhn_train_X[:, :, :, 0][i], cmap='gray')\n",
    "    plt.figure()\n",
    "    plt.imshow(g_images[:, :, :, 0][i], cmap='gray')\n"
   ]
  },
  {
   "cell_type": "code",
   "execution_count": 30,
   "metadata": {
    "collapsed": true
   },
   "outputs": [],
   "source": [
    "GD = generator_with_discriminator(G, D)"
   ]
  },
  {
   "cell_type": "code",
   "execution_count": 31,
   "metadata": {},
   "outputs": [
    {
     "data": {
      "text/plain": [
       "array([[ 0.51052451],\n",
       "       [ 0.51070338],\n",
       "       [ 0.5038569 ],\n",
       "       [ 0.50766897],\n",
       "       [ 0.50988203],\n",
       "       [ 0.51058739],\n",
       "       [ 0.51056337],\n",
       "       [ 0.51099759],\n",
       "       [ 0.50919443],\n",
       "       [ 0.50805187],\n",
       "       [ 0.51075226],\n",
       "       [ 0.5099979 ],\n",
       "       [ 0.5098986 ],\n",
       "       [ 0.51107967],\n",
       "       [ 0.50957578],\n",
       "       [ 0.50695229],\n",
       "       [ 0.510203  ],\n",
       "       [ 0.50591809],\n",
       "       [ 0.51124954],\n",
       "       [ 0.50983888],\n",
       "       [ 0.51061553],\n",
       "       [ 0.5107159 ],\n",
       "       [ 0.50980228],\n",
       "       [ 0.51018643],\n",
       "       [ 0.50780386],\n",
       "       [ 0.50802594],\n",
       "       [ 0.51203376],\n",
       "       [ 0.51005411],\n",
       "       [ 0.4992097 ],\n",
       "       [ 0.50676924]], dtype=float32)"
      ]
     },
     "execution_count": 31,
     "metadata": {},
     "output_type": "execute_result"
    }
   ],
   "source": [
    "GD.predict(G.predict(svhn_train_X[10:40]))"
   ]
  },
  {
   "cell_type": "code",
   "execution_count": 72,
   "metadata": {},
   "outputs": [
    {
     "data": {
      "text/plain": [
       "(10000, 28, 28, 1)"
      ]
     },
     "execution_count": 72,
     "metadata": {},
     "output_type": "execute_result"
    }
   ],
   "source": []
  },
  {
   "cell_type": "code",
   "execution_count": null,
   "metadata": {
    "collapsed": true
   },
   "outputs": [],
   "source": []
  }
 ],
 "metadata": {
  "anaconda-cloud": {},
  "kernelspec": {
   "display_name": "Python 3",
   "language": "python",
   "name": "python3"
  },
  "language_info": {
   "codemirror_mode": {
    "name": "ipython",
    "version": 3
   },
   "file_extension": ".py",
   "mimetype": "text/x-python",
   "name": "python",
   "nbconvert_exporter": "python",
   "pygments_lexer": "ipython3",
   "version": "3.5.4"
  }
 },
 "nbformat": 4,
 "nbformat_minor": 1
}
