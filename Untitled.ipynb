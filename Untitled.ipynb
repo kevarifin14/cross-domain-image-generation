{
 "cells": [
  {
   "cell_type": "code",
   "execution_count": 54,
   "metadata": {},
   "outputs": [
    {
     "name": "stdout",
     "output_type": "stream",
     "text": [
      "[name: \"/cpu:0\"\n",
      "device_type: \"CPU\"\n",
      "memory_limit: 268435456\n",
      "locality {\n",
      "}\n",
      "incarnation: 12158333625543951423\n",
      ", name: \"/gpu:0\"\n",
      "device_type: \"GPU\"\n",
      "memory_limit: 228458496\n",
      "locality {\n",
      "  bus_id: 1\n",
      "}\n",
      "incarnation: 10677478822380907365\n",
      "physical_device_desc: \"device: 0, name: GeForce GTX 1070, pci bus id: 0000:01:00.0\"\n",
      "]\n"
     ]
    }
   ],
   "source": [
    "import numpy as np\n",
    "import sklearn as skl\n",
    "from sklearn.preprocessing import OneHotEncoder\n",
    "import scipy.io as scio\n",
    "import scipy\n",
    "import skimage as sk\n",
    "import skimage.io as skio\n",
    "from skimage import color\n",
    "import keras\n",
    "from keras.models import Sequential, Model\n",
    "from keras.layers import Dense, Activation\n",
    "import matplotlib.pyplot as plt\n",
    "import tensorflow as tf\n",
    "from tensorflow.examples.tutorials.mnist import input_data\n",
    "import h5py\n",
    "from keras.layers.convolutional import UpSampling2D\n",
    "from keras.layers.convolutional import Conv2D, MaxPooling2D, Conv2DTranspose\n",
    "from keras.layers.core import Flatten, Reshape, Dropout\n",
    "from keras.layers.normalization import BatchNormalization\n",
    "from keras.datasets import mnist\n",
    "from keras.optimizers import SGD, Adam\n",
    "from keras.layers.advanced_activations import LeakyReLU\n",
    "from keras.optimizers import Adam\n",
    "from keras.layers import Input\n",
    "from PIL import Image\n",
    "import math\n",
    "from tensorflow.python.client import device_lib\n",
    "%matplotlib inline\n",
    "\n",
    "print(device_lib.list_local_devices())"
   ]
  },
  {
   "cell_type": "markdown",
   "metadata": {},
   "source": [
    "## Load MNIST"
   ]
  },
  {
   "cell_type": "code",
   "execution_count": 9,
   "metadata": {
    "collapsed": true
   },
   "outputs": [],
   "source": [
    "(X_train, y_train), (X_test, y_test) = mnist.load_data()"
   ]
  },
  {
   "cell_type": "markdown",
   "metadata": {},
   "source": [
    "## DCGAN"
   ]
  },
  {
   "cell_type": "code",
   "execution_count": 175,
   "metadata": {
    "collapsed": true
   },
   "outputs": [],
   "source": [
    "def generator():\n",
    "    model = Sequential()\n",
    "    model.add(Dense(input_dim=100, output_dim=1024))\n",
    "    model.add(Activation('relu'))\n",
    "    model.add(Dense(128*7*7))\n",
    "    model.add(BatchNormalization())\n",
    "    model.add(Activation('relu'))\n",
    "    model.add(Reshape((7, 7, 128), input_shape=(128*7*7,)))\n",
    "    model.add(UpSampling2D(size=(2, 2)))\n",
    "    model.add(Conv2DTranspose(128, (3, 3), padding='same', kernel_initializer='glorot_normal'))\n",
    "    model.add(Activation('relu'))\n",
    "    model.add(UpSampling2D(size=(2, 2)))\n",
    "    model.add(Conv2DTranspose(1, (3, 3), padding='same', kernel_initializer='glorot_normal'))\n",
    "    model.add(Activation('tanh'))\n",
    "    return model\n",
    "\n",
    "def discriminator():\n",
    "    model = Sequential()\n",
    "    model.add(Conv2D(64, (3, 3), padding='same', input_shape=(28, 28, 1), kernel_initializer='glorot_normal'))\n",
    "    model.add(Activation('relu'))\n",
    "    model.add(MaxPooling2D(pool_size=(2, 2)))\n",
    "    model.add(Conv2D(128, (3, 3), padding='same', kernel_initializer='glorot_normal'))\n",
    "    model.add(Activation('relu'))\n",
    "    model.add(Conv2D(1, (4, 4), padding='same', kernel_initializer='glorot_normal'))\n",
    "    model.add(Activation('relu'))\n",
    "    model.add(MaxPooling2D(pool_size=(2, 2)))\n",
    "    model.add(Flatten())\n",
    "    model.add(Dense(1))\n",
    "    model.add(Activation('sigmoid'))\n",
    "    return model\n",
    "\n",
    "def generator_with_discriminator(g, d):\n",
    "    model = Sequential()\n",
    "    model.add(g)\n",
    "    d.trainable = False\n",
    "    model.add(d)\n",
    "    return model"
   ]
  },
  {
   "cell_type": "code",
   "execution_count": 176,
   "metadata": {},
   "outputs": [
    {
     "name": "stdout",
     "output_type": "stream",
     "text": [
      "_________________________________________________________________\n",
      "Layer (type)                 Output Shape              Param #   \n",
      "=================================================================\n",
      "dense_111 (Dense)            (None, 1024)              103424    \n",
      "_________________________________________________________________\n",
      "activation_294 (Activation)  (None, 1024)              0         \n",
      "_________________________________________________________________\n",
      "dense_112 (Dense)            (None, 6272)              6428800   \n",
      "_________________________________________________________________\n",
      "batch_normalization_42 (Batc (None, 6272)              25088     \n",
      "_________________________________________________________________\n",
      "activation_295 (Activation)  (None, 6272)              0         \n",
      "_________________________________________________________________\n",
      "reshape_37 (Reshape)         (None, 7, 7, 128)         0         \n",
      "_________________________________________________________________\n",
      "up_sampling2d_73 (UpSampling (None, 14, 14, 128)       0         \n",
      "_________________________________________________________________\n",
      "conv2d_transpose_54 (Conv2DT (None, 14, 14, 128)       147584    \n",
      "_________________________________________________________________\n",
      "activation_296 (Activation)  (None, 14, 14, 128)       0         \n",
      "_________________________________________________________________\n",
      "up_sampling2d_74 (UpSampling (None, 28, 28, 128)       0         \n",
      "_________________________________________________________________\n",
      "conv2d_transpose_55 (Conv2DT (None, 28, 28, 1)         1153      \n",
      "_________________________________________________________________\n",
      "activation_297 (Activation)  (None, 28, 28, 1)         0         \n",
      "=================================================================\n",
      "Total params: 6,706,049\n",
      "Trainable params: 6,693,505\n",
      "Non-trainable params: 12,544\n",
      "_________________________________________________________________\n"
     ]
    },
    {
     "name": "stderr",
     "output_type": "stream",
     "text": [
      "/home/cemcanbrian/.local/lib/python3.5/site-packages/ipykernel_launcher.py:3: UserWarning: Update your `Dense` call to the Keras 2 API: `Dense(input_dim=100, units=1024)`\n",
      "  This is separate from the ipykernel package so we can avoid doing imports until\n"
     ]
    }
   ],
   "source": [
    "g = generator()\n",
    "g.summary()"
   ]
  },
  {
   "cell_type": "markdown",
   "metadata": {},
   "source": [
    "## Training"
   ]
  },
  {
   "cell_type": "code",
   "execution_count": 151,
   "metadata": {},
   "outputs": [],
   "source": [
    "def train(mnist_X_train, g=None, d=None, batch_size=128, epochs=100):\n",
    "    mnist_X_train = (mnist_X_train.astype(np.float32) - 127.5)/127.5\n",
    "    if not g: g = generator()\n",
    "    if not d: d = discriminator()\n",
    "    g_d = generator_with_discriminator(g, d)\n",
    "    g_d_optim = SGD(lr=0.0005, momentum=0.9, nesterov=True)\n",
    "    g_d.compile(loss='binary_crossentropy', optimizer=g_d_optim)\n",
    "    g.compile(loss='binary_crossentropy', optimizer=\"SGD\")\n",
    "    d.trainable = True\n",
    "    d_optim = SGD(lr=0.0005, momentum=0.9, nesterov=True)\n",
    "    d.compile(loss='binary_crossentropy', optimizer=d_optim)\n",
    "    for e in range(epochs):\n",
    "        print('Epoch: {}'.format(e))\n",
    "        for i in range(int(mnist_X_train.shape[0] / batch_size)):\n",
    "            # Create batches\n",
    "            batch_rand_X = np.random.uniform(-1, 1, size=(batch_size, 100))\n",
    "            batch_mnist_X = mnist_X_train[np.random.randint(mnist_X_train.shape[0], size=batch_size)]\n",
    "        \n",
    "            # Generate MNIST examples from noise for training\n",
    "            g_train_data = g.predict(batch_rand_X, verbose=0)\n",
    "            \n",
    "            # Label as real or fake\n",
    "            y_real, y_fake = np.ones(batch_size), np.zeros(batch_size)\n",
    "            X_train, y_train = np.vstack((batch_mnist_X, g_train_data)), np.hstack((y_real, y_fake))\n",
    "            # Train discriminator on this real/fake data\n",
    "            d_loss = d.train_on_batch(X_train, y_train)\n",
    "            \n",
    "            # Train generator based on the outputs of the discriminator\n",
    "            batch_rand_X = np.random.uniform(-1, 1, size=(batch_size, 100))\n",
    "            d.trainable = False\n",
    "            g_loss = g_d.train_on_batch(batch_rand_X, np.ones(batch_rand_X.shape[0]))\n",
    "            d.trainable = True\n",
    "            if i % 100 == 99:\n",
    "                print('Iteration {}'.format(i))\n",
    "                print('D Loss:', d_loss)\n",
    "                print('G Loss:', g_loss)\n",
    "                g.save_weights('G.h5')\n",
    "                d.save_weights('D.h5')\n",
    "    return g, d\n",
    "\n",
    "def test_pred(g, d):\n",
    "    g_images = g.predict(np.random.uniform(-1, 1, size=(10, 100)))\n",
    "    g_images = g_images * 127.5 + 127.5\n",
    "    for i in range(10):\n",
    "        plt.figure()\n",
    "        plt.figure()\n",
    "        plt.imshow(g_images[i][:, :, 0], cmap='gray')\n",
    "    print(d.predict(g_images))"
   ]
  },
  {
   "cell_type": "code",
   "execution_count": null,
   "metadata": {
    "scrolled": true
   },
   "outputs": [
    {
     "name": "stderr",
     "output_type": "stream",
     "text": [
      "/home/cemcanbrian/.local/lib/python3.5/site-packages/ipykernel_launcher.py:3: UserWarning: Update your `Dense` call to the Keras 2 API: `Dense(input_dim=100, units=1024)`\n",
      "  This is separate from the ipykernel package so we can avoid doing imports until\n"
     ]
    },
    {
     "name": "stdout",
     "output_type": "stream",
     "text": [
      "Epoch: 0\n",
      "Iteration 99\n",
      "D Loss: 0.470395\n",
      "G Loss: 0.242979\n",
      "Iteration 199\n",
      "D Loss: 0.474762\n",
      "G Loss: 0.311962\n",
      "Iteration 299\n",
      "D Loss: 0.468722\n",
      "G Loss: 0.588467\n",
      "Iteration 399\n",
      "D Loss: 0.353726\n",
      "G Loss: 0.78189\n",
      "Epoch: 1\n",
      "Iteration 99\n",
      "D Loss: 0.253484\n",
      "G Loss: 0.969196\n",
      "Iteration 199\n",
      "D Loss: 0.209052\n",
      "G Loss: 1.09335\n",
      "Iteration 299\n",
      "D Loss: 0.173185\n",
      "G Loss: 1.24271\n",
      "Iteration 399\n",
      "D Loss: 0.135542\n",
      "G Loss: 1.45932\n",
      "Epoch: 2\n",
      "Iteration 99\n",
      "D Loss: 0.0633521\n",
      "G Loss: 2.14969\n",
      "Iteration 199\n",
      "D Loss: 0.19842\n",
      "G Loss: 1.14323\n",
      "Iteration 299\n",
      "D Loss: 0.180413\n",
      "G Loss: 1.19581\n",
      "Iteration 399\n",
      "D Loss: 0.169448\n",
      "G Loss: 1.24794\n",
      "Epoch: 3\n",
      "Iteration 99\n",
      "D Loss: 0.15342\n",
      "G Loss: 1.33199\n",
      "Iteration 199\n",
      "D Loss: 0.14506\n",
      "G Loss: 1.37996\n",
      "Iteration 299\n",
      "D Loss: 0.137468\n",
      "G Loss: 1.42646\n",
      "Iteration 399\n",
      "D Loss: 0.130536\n",
      "G Loss: 1.47152\n",
      "Epoch: 4\n",
      "Iteration 99\n",
      "D Loss: 0.120195\n",
      "G Loss: 1.54413\n",
      "Iteration 199\n",
      "D Loss: 0.114702\n",
      "G Loss: 1.58559\n"
     ]
    }
   ],
   "source": [
    "g, d = train(X_train[:, :, :, None], epochs=10)"
   ]
  },
  {
   "cell_type": "code",
   "execution_count": 172,
   "metadata": {
    "scrolled": false
   },
   "outputs": [
    {
     "name": "stdout",
     "output_type": "stream",
     "text": [
      "[[ 1.]\n",
      " [ 1.]\n",
      " [ 1.]\n",
      " [ 1.]\n",
      " [ 1.]\n",
      " [ 1.]\n",
      " [ 1.]\n",
      " [ 1.]\n",
      " [ 1.]\n",
      " [ 1.]]\n"
     ]
    },
    {
     "data": {
      "text/plain": [
       "<matplotlib.figure.Figure at 0x7fabd42f5a90>"
      ]
     },
     "metadata": {},
     "output_type": "display_data"
    },
    {
     "data": {
      "image/png": "[encoded data removed]",
      "text/plain": [
       "<matplotlib.figure.Figure at 0x7fabd22c50b8>"
      ]
     },
     "metadata": {},
     "output_type": "display_data"
    },
    {
     "data": {
      "text/plain": [
       "<matplotlib.figure.Figure at 0x7fabd22ef5f8>"
      ]
     },
     "metadata": {},
     "output_type": "display_data"
    },
    {
     "data": {
      "image/png": "[encoded data removed]",
      "text/plain": [
       "<matplotlib.figure.Figure at 0x7fabd22efd68>"
      ]
     },
     "metadata": {},
     "output_type": "display_data"
    },
    {
     "data": {
      "text/plain": [
       "<matplotlib.figure.Figure at 0x7fabd23ba2b0>"
      ]
     },
     "metadata": {},
     "output_type": "display_data"
    },
    {
     "data": {
      "image/png": "[encoded data removed]",
      "text/plain": [
       "<matplotlib.figure.Figure at 0x7fabd23baa20>"
      ]
     },
     "metadata": {},
     "output_type": "display_data"
    },
    {
     "data": {
      "text/plain": [
       "<matplotlib.figure.Figure at 0x7fabd242b898>"
      ]
     },
     "metadata": {},
     "output_type": "display_data"
    },
    {
     "data": {
      "image/png": "[encoded data removed]",
      "text/plain": [
       "<matplotlib.figure.Figure at 0x7fabd2431048>"
      ]
     },
     "metadata": {},
     "output_type": "display_data"
    },
    {
     "data": {
      "text/plain": [
       "<matplotlib.figure.Figure at 0x7fabd23ee048>"
      ]
     },
     "metadata": {},
     "output_type": "display_data"
    },
    {
     "data": {
      "image/png": "[encoded data removed]",
      "text/plain": [
       "<matplotlib.figure.Figure at 0x7fabd23ee7b8>"
      ]
     },
     "metadata": {},
     "output_type": "display_data"
    },
    {
     "data": {
      "text/plain": [
       "<matplotlib.figure.Figure at 0x7fabd2362ac8>"
      ]
     },
     "metadata": {},
     "output_type": "display_data"
    },
    {
     "data": {
      "image/png": "[encoded data removed]",
      "text/plain": [
       "<matplotlib.figure.Figure at 0x7fabd2367278>"
      ]
     },
     "metadata": {},
     "output_type": "display_data"
    },
    {
     "data": {
      "text/plain": [
       "<matplotlib.figure.Figure at 0x7fabd2304fd0>"
      ]
     },
     "metadata": {},
     "output_type": "display_data"
    },
    {
     "data": {
      "image/png": "[encoded data removed]",
      "text/plain": [
       "<matplotlib.figure.Figure at 0x7fabd237b2b0>"
      ]
     },
     "metadata": {},
     "output_type": "display_data"
    },
    {
     "data": {
      "text/plain": [
       "<matplotlib.figure.Figure at 0x7fabd1b9e6d8>"
      ]
     },
     "metadata": {},
     "output_type": "display_data"
    },
    {
     "data": {
      "image/png": "[encoded data removed]",
      "text/plain": [
       "<matplotlib.figure.Figure at 0x7fabd1ba30b8>"
      ]
     },
     "metadata": {},
     "output_type": "display_data"
    },
    {
     "data": {
      "text/plain": [
       "<matplotlib.figure.Figure at 0x7fabd1b5f5c0>"
      ]
     },
     "metadata": {},
     "output_type": "display_data"
    },
    {
     "data": {
      "image/png": "[encoded data removed]",
      "text/plain": [
       "<matplotlib.figure.Figure at 0x7fabd1b5ff60>"
      ]
     },
     "metadata": {},
     "output_type": "display_data"
    },
    {
     "data": {
      "text/plain": [
       "<matplotlib.figure.Figure at 0x7fabd1ab17b8>"
      ]
     },
     "metadata": {},
     "output_type": "display_data"
    },
    {
     "data": {
      "image/png": "[encoded data removed]",
      "text/plain": [
       "<matplotlib.figure.Figure at 0x7fabd1ab6198>"
      ]
     },
     "metadata": {},
     "output_type": "display_data"
    }
   ],
   "source": [
    "test_pred(g, d)"
   ]
  },
  {
   "cell_type": "code",
   "execution_count": null,
   "metadata": {
    "collapsed": true
   },
   "outputs": [],
   "source": []
  }
 ],
 "metadata": {
  "kernelspec": {
   "display_name": "Python 3",
   "language": "python",
   "name": "python3"
  },
  "language_info": {
   "codemirror_mode": {
    "name": "ipython",
    "version": 3
   },
   "file_extension": ".py",
   "mimetype": "text/x-python",
   "name": "python",
   "nbconvert_exporter": "python",
   "pygments_lexer": "ipython3",
   "version": "3.5.4"
  }
 },
 "nbformat": 4,
 "nbformat_minor": 2
}
